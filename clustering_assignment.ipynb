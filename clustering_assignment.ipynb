{
 "cells": [
  {
   "cell_type": "code",
   "execution_count": 1,
   "id": "4963dab7-8610-4927-b181-9a5de6d95080",
   "metadata": {},
   "outputs": [],
   "source": [
    "import pandas as pd\n",
    "import numpy as np\n",
    "import seaborn as sns\n",
    "import matplotlib.pyplot as plt\n",
    "from sklearn.preprocessing import StandardScaler\n"
   ]
  },
  {
   "cell_type": "code",
   "execution_count": 2,
   "id": "cc250260-0765-4f02-a445-8ceb0fdb149e",
   "metadata": {},
   "outputs": [],
   "source": [
    "data=pd.read_csv('EastWestAirlines.csv')"
   ]
  },
  {
   "cell_type": "code",
   "execution_count": 3,
   "id": "d5ada2f1-d0b9-431b-b871-f1585182d88c",
   "metadata": {},
   "outputs": [
    {
     "data": {
      "text/html": [
       "<div>\n",
       "<style scoped>\n",
       "    .dataframe tbody tr th:only-of-type {\n",
       "        vertical-align: middle;\n",
       "    }\n",
       "\n",
       "    .dataframe tbody tr th {\n",
       "        vertical-align: top;\n",
       "    }\n",
       "\n",
       "    .dataframe thead th {\n",
       "        text-align: right;\n",
       "    }\n",
       "</style>\n",
       "<table border=\"1\" class=\"dataframe\">\n",
       "  <thead>\n",
       "    <tr style=\"text-align: right;\">\n",
       "      <th></th>\n",
       "      <th>ID#</th>\n",
       "      <th>Balance</th>\n",
       "      <th>Qual_miles</th>\n",
       "      <th>cc1_miles</th>\n",
       "      <th>cc2_miles</th>\n",
       "      <th>cc3_miles</th>\n",
       "      <th>Bonus_miles</th>\n",
       "      <th>Bonus_trans</th>\n",
       "      <th>Flight_miles_12mo</th>\n",
       "      <th>Flight_trans_12</th>\n",
       "      <th>Days_since_enroll</th>\n",
       "      <th>Award?</th>\n",
       "    </tr>\n",
       "  </thead>\n",
       "  <tbody>\n",
       "    <tr>\n",
       "      <th>0</th>\n",
       "      <td>1</td>\n",
       "      <td>28143</td>\n",
       "      <td>0</td>\n",
       "      <td>1</td>\n",
       "      <td>1</td>\n",
       "      <td>1</td>\n",
       "      <td>174</td>\n",
       "      <td>1</td>\n",
       "      <td>0</td>\n",
       "      <td>0</td>\n",
       "      <td>7000</td>\n",
       "      <td>0</td>\n",
       "    </tr>\n",
       "    <tr>\n",
       "      <th>1</th>\n",
       "      <td>2</td>\n",
       "      <td>19244</td>\n",
       "      <td>0</td>\n",
       "      <td>1</td>\n",
       "      <td>1</td>\n",
       "      <td>1</td>\n",
       "      <td>215</td>\n",
       "      <td>2</td>\n",
       "      <td>0</td>\n",
       "      <td>0</td>\n",
       "      <td>6968</td>\n",
       "      <td>0</td>\n",
       "    </tr>\n",
       "    <tr>\n",
       "      <th>2</th>\n",
       "      <td>3</td>\n",
       "      <td>41354</td>\n",
       "      <td>0</td>\n",
       "      <td>1</td>\n",
       "      <td>1</td>\n",
       "      <td>1</td>\n",
       "      <td>4123</td>\n",
       "      <td>4</td>\n",
       "      <td>0</td>\n",
       "      <td>0</td>\n",
       "      <td>7034</td>\n",
       "      <td>0</td>\n",
       "    </tr>\n",
       "    <tr>\n",
       "      <th>3</th>\n",
       "      <td>4</td>\n",
       "      <td>14776</td>\n",
       "      <td>0</td>\n",
       "      <td>1</td>\n",
       "      <td>1</td>\n",
       "      <td>1</td>\n",
       "      <td>500</td>\n",
       "      <td>1</td>\n",
       "      <td>0</td>\n",
       "      <td>0</td>\n",
       "      <td>6952</td>\n",
       "      <td>0</td>\n",
       "    </tr>\n",
       "    <tr>\n",
       "      <th>4</th>\n",
       "      <td>5</td>\n",
       "      <td>97752</td>\n",
       "      <td>0</td>\n",
       "      <td>4</td>\n",
       "      <td>1</td>\n",
       "      <td>1</td>\n",
       "      <td>43300</td>\n",
       "      <td>26</td>\n",
       "      <td>2077</td>\n",
       "      <td>4</td>\n",
       "      <td>6935</td>\n",
       "      <td>1</td>\n",
       "    </tr>\n",
       "    <tr>\n",
       "      <th>...</th>\n",
       "      <td>...</td>\n",
       "      <td>...</td>\n",
       "      <td>...</td>\n",
       "      <td>...</td>\n",
       "      <td>...</td>\n",
       "      <td>...</td>\n",
       "      <td>...</td>\n",
       "      <td>...</td>\n",
       "      <td>...</td>\n",
       "      <td>...</td>\n",
       "      <td>...</td>\n",
       "      <td>...</td>\n",
       "    </tr>\n",
       "    <tr>\n",
       "      <th>3994</th>\n",
       "      <td>4017</td>\n",
       "      <td>18476</td>\n",
       "      <td>0</td>\n",
       "      <td>1</td>\n",
       "      <td>1</td>\n",
       "      <td>1</td>\n",
       "      <td>8525</td>\n",
       "      <td>4</td>\n",
       "      <td>200</td>\n",
       "      <td>1</td>\n",
       "      <td>1403</td>\n",
       "      <td>1</td>\n",
       "    </tr>\n",
       "    <tr>\n",
       "      <th>3995</th>\n",
       "      <td>4018</td>\n",
       "      <td>64385</td>\n",
       "      <td>0</td>\n",
       "      <td>1</td>\n",
       "      <td>1</td>\n",
       "      <td>1</td>\n",
       "      <td>981</td>\n",
       "      <td>5</td>\n",
       "      <td>0</td>\n",
       "      <td>0</td>\n",
       "      <td>1395</td>\n",
       "      <td>1</td>\n",
       "    </tr>\n",
       "    <tr>\n",
       "      <th>3996</th>\n",
       "      <td>4019</td>\n",
       "      <td>73597</td>\n",
       "      <td>0</td>\n",
       "      <td>3</td>\n",
       "      <td>1</td>\n",
       "      <td>1</td>\n",
       "      <td>25447</td>\n",
       "      <td>8</td>\n",
       "      <td>0</td>\n",
       "      <td>0</td>\n",
       "      <td>1402</td>\n",
       "      <td>1</td>\n",
       "    </tr>\n",
       "    <tr>\n",
       "      <th>3997</th>\n",
       "      <td>4020</td>\n",
       "      <td>54899</td>\n",
       "      <td>0</td>\n",
       "      <td>1</td>\n",
       "      <td>1</td>\n",
       "      <td>1</td>\n",
       "      <td>500</td>\n",
       "      <td>1</td>\n",
       "      <td>500</td>\n",
       "      <td>1</td>\n",
       "      <td>1401</td>\n",
       "      <td>0</td>\n",
       "    </tr>\n",
       "    <tr>\n",
       "      <th>3998</th>\n",
       "      <td>4021</td>\n",
       "      <td>3016</td>\n",
       "      <td>0</td>\n",
       "      <td>1</td>\n",
       "      <td>1</td>\n",
       "      <td>1</td>\n",
       "      <td>0</td>\n",
       "      <td>0</td>\n",
       "      <td>0</td>\n",
       "      <td>0</td>\n",
       "      <td>1398</td>\n",
       "      <td>0</td>\n",
       "    </tr>\n",
       "  </tbody>\n",
       "</table>\n",
       "<p>3999 rows × 12 columns</p>\n",
       "</div>"
      ],
      "text/plain": [
       "       ID#  Balance  Qual_miles  cc1_miles  cc2_miles  cc3_miles  Bonus_miles  \\\n",
       "0        1    28143           0          1          1          1          174   \n",
       "1        2    19244           0          1          1          1          215   \n",
       "2        3    41354           0          1          1          1         4123   \n",
       "3        4    14776           0          1          1          1          500   \n",
       "4        5    97752           0          4          1          1        43300   \n",
       "...    ...      ...         ...        ...        ...        ...          ...   \n",
       "3994  4017    18476           0          1          1          1         8525   \n",
       "3995  4018    64385           0          1          1          1          981   \n",
       "3996  4019    73597           0          3          1          1        25447   \n",
       "3997  4020    54899           0          1          1          1          500   \n",
       "3998  4021     3016           0          1          1          1            0   \n",
       "\n",
       "      Bonus_trans  Flight_miles_12mo  Flight_trans_12  Days_since_enroll  \\\n",
       "0               1                  0                0               7000   \n",
       "1               2                  0                0               6968   \n",
       "2               4                  0                0               7034   \n",
       "3               1                  0                0               6952   \n",
       "4              26               2077                4               6935   \n",
       "...           ...                ...              ...                ...   \n",
       "3994            4                200                1               1403   \n",
       "3995            5                  0                0               1395   \n",
       "3996            8                  0                0               1402   \n",
       "3997            1                500                1               1401   \n",
       "3998            0                  0                0               1398   \n",
       "\n",
       "      Award?  \n",
       "0          0  \n",
       "1          0  \n",
       "2          0  \n",
       "3          0  \n",
       "4          1  \n",
       "...      ...  \n",
       "3994       1  \n",
       "3995       1  \n",
       "3996       1  \n",
       "3997       0  \n",
       "3998       0  \n",
       "\n",
       "[3999 rows x 12 columns]"
      ]
     },
     "execution_count": 3,
     "metadata": {},
     "output_type": "execute_result"
    }
   ],
   "source": [
    "data"
   ]
  },
  {
   "cell_type": "code",
   "execution_count": 4,
   "id": "982ec54e-d750-41ad-83f6-2a1952251536",
   "metadata": {},
   "outputs": [
    {
     "data": {
      "text/plain": [
       "(3999, 12)"
      ]
     },
     "execution_count": 4,
     "metadata": {},
     "output_type": "execute_result"
    }
   ],
   "source": [
    "data.shape"
   ]
  },
  {
   "cell_type": "code",
   "execution_count": 5,
   "id": "36f69232-0bc0-4690-80c7-1ffbac918909",
   "metadata": {},
   "outputs": [
    {
     "data": {
      "text/html": [
       "<div>\n",
       "<style scoped>\n",
       "    .dataframe tbody tr th:only-of-type {\n",
       "        vertical-align: middle;\n",
       "    }\n",
       "\n",
       "    .dataframe tbody tr th {\n",
       "        vertical-align: top;\n",
       "    }\n",
       "\n",
       "    .dataframe thead th {\n",
       "        text-align: right;\n",
       "    }\n",
       "</style>\n",
       "<table border=\"1\" class=\"dataframe\">\n",
       "  <thead>\n",
       "    <tr style=\"text-align: right;\">\n",
       "      <th></th>\n",
       "      <th>ID#</th>\n",
       "      <th>Balance</th>\n",
       "      <th>Qual_miles</th>\n",
       "      <th>cc1_miles</th>\n",
       "      <th>cc2_miles</th>\n",
       "      <th>cc3_miles</th>\n",
       "      <th>Bonus_miles</th>\n",
       "      <th>Bonus_trans</th>\n",
       "      <th>Flight_miles_12mo</th>\n",
       "      <th>Flight_trans_12</th>\n",
       "      <th>Days_since_enroll</th>\n",
       "      <th>Award?</th>\n",
       "    </tr>\n",
       "  </thead>\n",
       "  <tbody>\n",
       "    <tr>\n",
       "      <th>0</th>\n",
       "      <td>1</td>\n",
       "      <td>28143</td>\n",
       "      <td>0</td>\n",
       "      <td>1</td>\n",
       "      <td>1</td>\n",
       "      <td>1</td>\n",
       "      <td>174</td>\n",
       "      <td>1</td>\n",
       "      <td>0</td>\n",
       "      <td>0</td>\n",
       "      <td>7000</td>\n",
       "      <td>0</td>\n",
       "    </tr>\n",
       "    <tr>\n",
       "      <th>1</th>\n",
       "      <td>2</td>\n",
       "      <td>19244</td>\n",
       "      <td>0</td>\n",
       "      <td>1</td>\n",
       "      <td>1</td>\n",
       "      <td>1</td>\n",
       "      <td>215</td>\n",
       "      <td>2</td>\n",
       "      <td>0</td>\n",
       "      <td>0</td>\n",
       "      <td>6968</td>\n",
       "      <td>0</td>\n",
       "    </tr>\n",
       "  </tbody>\n",
       "</table>\n",
       "</div>"
      ],
      "text/plain": [
       "   ID#  Balance  Qual_miles  cc1_miles  cc2_miles  cc3_miles  Bonus_miles  \\\n",
       "0    1    28143           0          1          1          1          174   \n",
       "1    2    19244           0          1          1          1          215   \n",
       "\n",
       "   Bonus_trans  Flight_miles_12mo  Flight_trans_12  Days_since_enroll  Award?  \n",
       "0            1                  0                0               7000       0  \n",
       "1            2                  0                0               6968       0  "
      ]
     },
     "execution_count": 5,
     "metadata": {},
     "output_type": "execute_result"
    }
   ],
   "source": [
    "data.head(2)"
   ]
  },
  {
   "cell_type": "code",
   "execution_count": 6,
   "id": "b7fa2522-457f-4f43-8415-f8877c764a63",
   "metadata": {},
   "outputs": [
    {
     "data": {
      "text/html": [
       "<div>\n",
       "<style scoped>\n",
       "    .dataframe tbody tr th:only-of-type {\n",
       "        vertical-align: middle;\n",
       "    }\n",
       "\n",
       "    .dataframe tbody tr th {\n",
       "        vertical-align: top;\n",
       "    }\n",
       "\n",
       "    .dataframe thead th {\n",
       "        text-align: right;\n",
       "    }\n",
       "</style>\n",
       "<table border=\"1\" class=\"dataframe\">\n",
       "  <thead>\n",
       "    <tr style=\"text-align: right;\">\n",
       "      <th></th>\n",
       "      <th>ID#</th>\n",
       "      <th>Balance</th>\n",
       "      <th>Qual_miles</th>\n",
       "      <th>cc1_miles</th>\n",
       "      <th>cc2_miles</th>\n",
       "      <th>cc3_miles</th>\n",
       "      <th>Bonus_miles</th>\n",
       "      <th>Bonus_trans</th>\n",
       "      <th>Flight_miles_12mo</th>\n",
       "      <th>Flight_trans_12</th>\n",
       "      <th>Days_since_enroll</th>\n",
       "      <th>Award?</th>\n",
       "    </tr>\n",
       "  </thead>\n",
       "  <tbody>\n",
       "    <tr>\n",
       "      <th>3997</th>\n",
       "      <td>4020</td>\n",
       "      <td>54899</td>\n",
       "      <td>0</td>\n",
       "      <td>1</td>\n",
       "      <td>1</td>\n",
       "      <td>1</td>\n",
       "      <td>500</td>\n",
       "      <td>1</td>\n",
       "      <td>500</td>\n",
       "      <td>1</td>\n",
       "      <td>1401</td>\n",
       "      <td>0</td>\n",
       "    </tr>\n",
       "    <tr>\n",
       "      <th>3998</th>\n",
       "      <td>4021</td>\n",
       "      <td>3016</td>\n",
       "      <td>0</td>\n",
       "      <td>1</td>\n",
       "      <td>1</td>\n",
       "      <td>1</td>\n",
       "      <td>0</td>\n",
       "      <td>0</td>\n",
       "      <td>0</td>\n",
       "      <td>0</td>\n",
       "      <td>1398</td>\n",
       "      <td>0</td>\n",
       "    </tr>\n",
       "  </tbody>\n",
       "</table>\n",
       "</div>"
      ],
      "text/plain": [
       "       ID#  Balance  Qual_miles  cc1_miles  cc2_miles  cc3_miles  Bonus_miles  \\\n",
       "3997  4020    54899           0          1          1          1          500   \n",
       "3998  4021     3016           0          1          1          1            0   \n",
       "\n",
       "      Bonus_trans  Flight_miles_12mo  Flight_trans_12  Days_since_enroll  \\\n",
       "3997            1                500                1               1401   \n",
       "3998            0                  0                0               1398   \n",
       "\n",
       "      Award?  \n",
       "3997       0  \n",
       "3998       0  "
      ]
     },
     "execution_count": 6,
     "metadata": {},
     "output_type": "execute_result"
    }
   ],
   "source": [
    "data.tail(2)"
   ]
  },
  {
   "cell_type": "code",
   "execution_count": 7,
   "id": "93926ef2-f4e0-4d0b-84ad-1ea46186c059",
   "metadata": {},
   "outputs": [],
   "source": [
    "data.drop('ID#',axis=1,inplace=True)"
   ]
  },
  {
   "cell_type": "code",
   "execution_count": 8,
   "id": "609bae43-0de3-47ae-b311-6a19b5089013",
   "metadata": {},
   "outputs": [],
   "source": [
    "data.drop(\"Qual_miles\",axis=1,inplace=True)"
   ]
  },
  {
   "cell_type": "code",
   "execution_count": 9,
   "id": "1bd6732f-90ae-432d-995b-eb046ae87091",
   "metadata": {},
   "outputs": [],
   "source": [
    "data.drop(\"Flight_trans_12\",axis=1,inplace=True)"
   ]
  },
  {
   "cell_type": "code",
   "execution_count": 10,
   "id": "da25087e-1298-456b-8de9-d48206d9114f",
   "metadata": {},
   "outputs": [],
   "source": [
    "data.drop(\"Flight_miles_12mo\",axis=1,inplace=True)"
   ]
  },
  {
   "cell_type": "code",
   "execution_count": 11,
   "id": "01d6c8d7-1f9a-4c0a-991c-939aaf002ac8",
   "metadata": {},
   "outputs": [],
   "source": [
    "data.drop(\"Days_since_enroll\",axis=1,inplace=True)"
   ]
  },
  {
   "cell_type": "code",
   "execution_count": 12,
   "id": "96aa0921-eb8d-44df-a568-d87ba954f06a",
   "metadata": {},
   "outputs": [
    {
     "data": {
      "text/html": [
       "<div>\n",
       "<style scoped>\n",
       "    .dataframe tbody tr th:only-of-type {\n",
       "        vertical-align: middle;\n",
       "    }\n",
       "\n",
       "    .dataframe tbody tr th {\n",
       "        vertical-align: top;\n",
       "    }\n",
       "\n",
       "    .dataframe thead th {\n",
       "        text-align: right;\n",
       "    }\n",
       "</style>\n",
       "<table border=\"1\" class=\"dataframe\">\n",
       "  <thead>\n",
       "    <tr style=\"text-align: right;\">\n",
       "      <th></th>\n",
       "      <th>Balance</th>\n",
       "      <th>cc1_miles</th>\n",
       "      <th>cc2_miles</th>\n",
       "      <th>cc3_miles</th>\n",
       "      <th>Bonus_miles</th>\n",
       "      <th>Bonus_trans</th>\n",
       "      <th>Award?</th>\n",
       "    </tr>\n",
       "  </thead>\n",
       "  <tbody>\n",
       "    <tr>\n",
       "      <th>count</th>\n",
       "      <td>3.999000e+03</td>\n",
       "      <td>3999.000000</td>\n",
       "      <td>3999.000000</td>\n",
       "      <td>3999.000000</td>\n",
       "      <td>3999.000000</td>\n",
       "      <td>3999.00000</td>\n",
       "      <td>3999.000000</td>\n",
       "    </tr>\n",
       "    <tr>\n",
       "      <th>mean</th>\n",
       "      <td>7.360133e+04</td>\n",
       "      <td>2.059515</td>\n",
       "      <td>1.014504</td>\n",
       "      <td>1.012253</td>\n",
       "      <td>17144.846212</td>\n",
       "      <td>11.60190</td>\n",
       "      <td>0.370343</td>\n",
       "    </tr>\n",
       "    <tr>\n",
       "      <th>std</th>\n",
       "      <td>1.007757e+05</td>\n",
       "      <td>1.376919</td>\n",
       "      <td>0.147650</td>\n",
       "      <td>0.195241</td>\n",
       "      <td>24150.967826</td>\n",
       "      <td>9.60381</td>\n",
       "      <td>0.482957</td>\n",
       "    </tr>\n",
       "    <tr>\n",
       "      <th>min</th>\n",
       "      <td>0.000000e+00</td>\n",
       "      <td>1.000000</td>\n",
       "      <td>1.000000</td>\n",
       "      <td>1.000000</td>\n",
       "      <td>0.000000</td>\n",
       "      <td>0.00000</td>\n",
       "      <td>0.000000</td>\n",
       "    </tr>\n",
       "    <tr>\n",
       "      <th>25%</th>\n",
       "      <td>1.852750e+04</td>\n",
       "      <td>1.000000</td>\n",
       "      <td>1.000000</td>\n",
       "      <td>1.000000</td>\n",
       "      <td>1250.000000</td>\n",
       "      <td>3.00000</td>\n",
       "      <td>0.000000</td>\n",
       "    </tr>\n",
       "    <tr>\n",
       "      <th>50%</th>\n",
       "      <td>4.309700e+04</td>\n",
       "      <td>1.000000</td>\n",
       "      <td>1.000000</td>\n",
       "      <td>1.000000</td>\n",
       "      <td>7171.000000</td>\n",
       "      <td>12.00000</td>\n",
       "      <td>0.000000</td>\n",
       "    </tr>\n",
       "    <tr>\n",
       "      <th>75%</th>\n",
       "      <td>9.240400e+04</td>\n",
       "      <td>3.000000</td>\n",
       "      <td>1.000000</td>\n",
       "      <td>1.000000</td>\n",
       "      <td>23800.500000</td>\n",
       "      <td>17.00000</td>\n",
       "      <td>1.000000</td>\n",
       "    </tr>\n",
       "    <tr>\n",
       "      <th>max</th>\n",
       "      <td>1.704838e+06</td>\n",
       "      <td>5.000000</td>\n",
       "      <td>3.000000</td>\n",
       "      <td>5.000000</td>\n",
       "      <td>263685.000000</td>\n",
       "      <td>86.00000</td>\n",
       "      <td>1.000000</td>\n",
       "    </tr>\n",
       "  </tbody>\n",
       "</table>\n",
       "</div>"
      ],
      "text/plain": [
       "            Balance    cc1_miles    cc2_miles    cc3_miles    Bonus_miles  \\\n",
       "count  3.999000e+03  3999.000000  3999.000000  3999.000000    3999.000000   \n",
       "mean   7.360133e+04     2.059515     1.014504     1.012253   17144.846212   \n",
       "std    1.007757e+05     1.376919     0.147650     0.195241   24150.967826   \n",
       "min    0.000000e+00     1.000000     1.000000     1.000000       0.000000   \n",
       "25%    1.852750e+04     1.000000     1.000000     1.000000    1250.000000   \n",
       "50%    4.309700e+04     1.000000     1.000000     1.000000    7171.000000   \n",
       "75%    9.240400e+04     3.000000     1.000000     1.000000   23800.500000   \n",
       "max    1.704838e+06     5.000000     3.000000     5.000000  263685.000000   \n",
       "\n",
       "       Bonus_trans       Award?  \n",
       "count   3999.00000  3999.000000  \n",
       "mean      11.60190     0.370343  \n",
       "std        9.60381     0.482957  \n",
       "min        0.00000     0.000000  \n",
       "25%        3.00000     0.000000  \n",
       "50%       12.00000     0.000000  \n",
       "75%       17.00000     1.000000  \n",
       "max       86.00000     1.000000  "
      ]
     },
     "execution_count": 12,
     "metadata": {},
     "output_type": "execute_result"
    }
   ],
   "source": [
    "data.describe()"
   ]
  },
  {
   "cell_type": "code",
   "execution_count": null,
   "id": "66ad2016-936a-4a21-aab7-c2ffe444d8ec",
   "metadata": {},
   "outputs": [],
   "source": []
  },
  {
   "cell_type": "code",
   "execution_count": 13,
   "id": "8e286543-f3f9-4d9a-877f-f555bf592d5b",
   "metadata": {},
   "outputs": [
    {
     "data": {
      "text/plain": [
       "17"
      ]
     },
     "execution_count": 13,
     "metadata": {},
     "output_type": "execute_result"
    }
   ],
   "source": [
    "# duplicated values\n",
    "data.duplicated().sum()"
   ]
  },
  {
   "cell_type": "code",
   "execution_count": 14,
   "id": "6e7d0a78-531a-4f8e-8d7d-816b57e5253c",
   "metadata": {},
   "outputs": [
    {
     "data": {
      "text/plain": [
       "array([[<Axes: title={'center': 'Balance'}>,\n",
       "        <Axes: title={'center': 'cc1_miles'}>,\n",
       "        <Axes: title={'center': 'cc2_miles'}>],\n",
       "       [<Axes: title={'center': 'cc3_miles'}>,\n",
       "        <Axes: title={'center': 'Bonus_miles'}>,\n",
       "        <Axes: title={'center': 'Bonus_trans'}>],\n",
       "       [<Axes: title={'center': 'Award?'}>, <Axes: >, <Axes: >]],\n",
       "      dtype=object)"
      ]
     },
     "execution_count": 14,
     "metadata": {},
     "output_type": "execute_result"
    },
    {
     "data": {
      "text/plain": [
       "<Figure size 5000x800 with 0 Axes>"
      ]
     },
     "metadata": {},
     "output_type": "display_data"
    },
    {
     "data": {
      "image/png": "[encoded data removed]",
      "text/plain": [
       "<Figure size 640x480 with 9 Axes>"
      ]
     },
     "metadata": {},
     "output_type": "display_data"
    }
   ],
   "source": [
    "plt.figure(figsize=(50, 8))\n",
    "data.hist(bins=20)"
   ]
  },
  {
   "cell_type": "code",
   "execution_count": 15,
   "id": "d4899c81-bb51-4125-8370-f5884ae4a28d",
   "metadata": {},
   "outputs": [
    {
     "data": {
      "text/plain": [
       "Balance        0\n",
       "cc1_miles      0\n",
       "cc2_miles      0\n",
       "cc3_miles      0\n",
       "Bonus_miles    0\n",
       "Bonus_trans    0\n",
       "Award?         0\n",
       "dtype: int64"
      ]
     },
     "execution_count": 15,
     "metadata": {},
     "output_type": "execute_result"
    }
   ],
   "source": [
    "data.isna().sum()"
   ]
  },
  {
   "cell_type": "code",
   "execution_count": 16,
   "id": "b8c76039-628e-4656-b4f2-a70cb6de3bba",
   "metadata": {},
   "outputs": [
    {
     "data": {
      "text/plain": [
       "<Axes: >"
      ]
     },
     "execution_count": 16,
     "metadata": {},
     "output_type": "execute_result"
    },
    {
     "data": {
      "image/png": "[encoded data removed]",
      "text/plain": [
       "<Figure size 640x480 with 1 Axes>"
      ]
     },
     "metadata": {},
     "output_type": "display_data"
    }
   ],
   "source": [
    "sns.boxplot(data)"
   ]
  },
  {
   "cell_type": "code",
   "execution_count": 17,
   "id": "ecddf680-6bf9-4945-95ea-1a1bff40a94b",
   "metadata": {},
   "outputs": [
    {
     "name": "stdout",
     "output_type": "stream",
     "text": [
      "0.0\n",
      "0.0\n",
      "0.0\n",
      "0.0\n",
      "0.0\n",
      "0.0\n",
      "0.0\n"
     ]
    }
   ],
   "source": [
    "# % of missingvalues\n",
    "for i in data.isna().sum():\n",
    "    print ((i/len(data))*100) # no missing values"
   ]
  },
  {
   "cell_type": "markdown",
   "id": "78f157d6-bf69-4bc3-bb68-67540c0bcd32",
   "metadata": {},
   "source": [
    "## Outliers detection"
   ]
  },
  {
   "cell_type": "code",
   "execution_count": 19,
   "id": "06e8f826-1f7a-45a9-add7-57e98426ac35",
   "metadata": {},
   "outputs": [],
   "source": [
    "# removing outliers\n",
    "\n",
    "Q1 = data.quantile(0.25)\n",
    "Q3 = data.quantile(0.75)\n",
    "\n",
    "IQR= Q3-Q1\n",
    "\n",
    "data = data[~((data< (Q1 - 1.5 * IQR)) | (data > (Q3 + 1.5 * IQR))).any(axis=1)]"
   ]
  },
  {
   "cell_type": "markdown",
   "id": "d1a340a2-47c7-4ad9-92ac-99369fecc853",
   "metadata": {},
   "source": [
    "## Correlation matrix"
   ]
  },
  {
   "cell_type": "code",
   "execution_count": 21,
   "id": "04746306-6781-49db-9208-327f8dadbdea",
   "metadata": {},
   "outputs": [
    {
     "data": {
      "text/html": [
       "<div>\n",
       "<style scoped>\n",
       "    .dataframe tbody tr th:only-of-type {\n",
       "        vertical-align: middle;\n",
       "    }\n",
       "\n",
       "    .dataframe tbody tr th {\n",
       "        vertical-align: top;\n",
       "    }\n",
       "\n",
       "    .dataframe thead th {\n",
       "        text-align: right;\n",
       "    }\n",
       "</style>\n",
       "<table border=\"1\" class=\"dataframe\">\n",
       "  <thead>\n",
       "    <tr style=\"text-align: right;\">\n",
       "      <th></th>\n",
       "      <th>Balance</th>\n",
       "      <th>cc1_miles</th>\n",
       "      <th>cc2_miles</th>\n",
       "      <th>cc3_miles</th>\n",
       "      <th>Bonus_miles</th>\n",
       "      <th>Bonus_trans</th>\n",
       "      <th>Award?</th>\n",
       "    </tr>\n",
       "  </thead>\n",
       "  <tbody>\n",
       "    <tr>\n",
       "      <th>Balance</th>\n",
       "      <td>1.000000</td>\n",
       "      <td>0.392162</td>\n",
       "      <td>NaN</td>\n",
       "      <td>NaN</td>\n",
       "      <td>0.417580</td>\n",
       "      <td>0.344451</td>\n",
       "      <td>0.091210</td>\n",
       "    </tr>\n",
       "    <tr>\n",
       "      <th>cc1_miles</th>\n",
       "      <td>0.392162</td>\n",
       "      <td>1.000000</td>\n",
       "      <td>NaN</td>\n",
       "      <td>NaN</td>\n",
       "      <td>0.896131</td>\n",
       "      <td>0.616178</td>\n",
       "      <td>0.300345</td>\n",
       "    </tr>\n",
       "    <tr>\n",
       "      <th>cc2_miles</th>\n",
       "      <td>NaN</td>\n",
       "      <td>NaN</td>\n",
       "      <td>NaN</td>\n",
       "      <td>NaN</td>\n",
       "      <td>NaN</td>\n",
       "      <td>NaN</td>\n",
       "      <td>NaN</td>\n",
       "    </tr>\n",
       "    <tr>\n",
       "      <th>cc3_miles</th>\n",
       "      <td>NaN</td>\n",
       "      <td>NaN</td>\n",
       "      <td>NaN</td>\n",
       "      <td>NaN</td>\n",
       "      <td>NaN</td>\n",
       "      <td>NaN</td>\n",
       "      <td>NaN</td>\n",
       "    </tr>\n",
       "    <tr>\n",
       "      <th>Bonus_miles</th>\n",
       "      <td>0.417580</td>\n",
       "      <td>0.896131</td>\n",
       "      <td>NaN</td>\n",
       "      <td>NaN</td>\n",
       "      <td>1.000000</td>\n",
       "      <td>0.632381</td>\n",
       "      <td>0.361490</td>\n",
       "    </tr>\n",
       "    <tr>\n",
       "      <th>Bonus_trans</th>\n",
       "      <td>0.344451</td>\n",
       "      <td>0.616178</td>\n",
       "      <td>NaN</td>\n",
       "      <td>NaN</td>\n",
       "      <td>0.632381</td>\n",
       "      <td>1.000000</td>\n",
       "      <td>0.282630</td>\n",
       "    </tr>\n",
       "    <tr>\n",
       "      <th>Award?</th>\n",
       "      <td>0.091210</td>\n",
       "      <td>0.300345</td>\n",
       "      <td>NaN</td>\n",
       "      <td>NaN</td>\n",
       "      <td>0.361490</td>\n",
       "      <td>0.282630</td>\n",
       "      <td>1.000000</td>\n",
       "    </tr>\n",
       "  </tbody>\n",
       "</table>\n",
       "</div>"
      ],
      "text/plain": [
       "              Balance  cc1_miles  cc2_miles  cc3_miles  Bonus_miles  \\\n",
       "Balance      1.000000   0.392162        NaN        NaN     0.417580   \n",
       "cc1_miles    0.392162   1.000000        NaN        NaN     0.896131   \n",
       "cc2_miles         NaN        NaN        NaN        NaN          NaN   \n",
       "cc3_miles         NaN        NaN        NaN        NaN          NaN   \n",
       "Bonus_miles  0.417580   0.896131        NaN        NaN     1.000000   \n",
       "Bonus_trans  0.344451   0.616178        NaN        NaN     0.632381   \n",
       "Award?       0.091210   0.300345        NaN        NaN     0.361490   \n",
       "\n",
       "             Bonus_trans    Award?  \n",
       "Balance         0.344451  0.091210  \n",
       "cc1_miles       0.616178  0.300345  \n",
       "cc2_miles            NaN       NaN  \n",
       "cc3_miles            NaN       NaN  \n",
       "Bonus_miles     0.632381  0.361490  \n",
       "Bonus_trans     1.000000  0.282630  \n",
       "Award?          0.282630  1.000000  "
      ]
     },
     "execution_count": 21,
     "metadata": {},
     "output_type": "execute_result"
    }
   ],
   "source": [
    "data.corr() ## data is dynamically correlation "
   ]
  },
  {
   "cell_type": "code",
   "execution_count": 22,
   "id": "83841a17-f99e-493c-b0ef-6d811fdc4e8e",
   "metadata": {},
   "outputs": [
    {
     "data": {
      "text/plain": [
       "<Axes: >"
      ]
     },
     "execution_count": 22,
     "metadata": {},
     "output_type": "execute_result"
    },
    {
     "data": {
      "image/png": "[encoded data removed]",
      "text/plain": [
       "<Figure size 640x480 with 2 Axes>"
      ]
     },
     "metadata": {},
     "output_type": "display_data"
    }
   ],
   "source": [
    "## correlation heatmap\n",
    "\n",
    "sns.heatmap(data.corr(), annot=True, linewidths =.5, fmt ='.1f')"
   ]
  },
  {
   "cell_type": "markdown",
   "id": "4d428e03-6d9d-4465-99b3-8d4b9857fe9d",
   "metadata": {},
   "source": [
    "## Data PreProcessing"
   ]
  },
  {
   "cell_type": "code",
   "execution_count": 24,
   "id": "baa08d5a-1e49-4c0e-bf73-0731f3cb168d",
   "metadata": {},
   "outputs": [],
   "source": [
    "## standerdaisation"
   ]
  },
  {
   "cell_type": "code",
   "execution_count": 25,
   "id": "32c8cb31-2225-4eef-aa33-aef83732147d",
   "metadata": {},
   "outputs": [
    {
     "data": {
      "text/plain": [
       "array([[-0.50123453, -0.7097949 ,  0.        , ..., -0.81173339,\n",
       "        -1.11798093, -0.69393448],\n",
       "       [-0.69972086, -0.7097949 ,  0.        , ..., -0.80876625,\n",
       "        -0.99324693, -0.69393448],\n",
       "       [-0.20657189, -0.7097949 ,  0.        , ..., -0.52594719,\n",
       "        -0.74377891, -0.69393448],\n",
       "       ...,\n",
       "       [ 0.51258696,  1.01449222,  0.        , ...,  1.01725487,\n",
       "        -0.24484288,  1.44105824],\n",
       "       [ 0.0955404 , -0.7097949 ,  0.        , ..., -0.78814101,\n",
       "        -1.11798093, -0.69393448],\n",
       "       [-1.0616757 , -0.7097949 ,  0.        , ..., -0.82432564,\n",
       "        -1.24271494, -0.69393448]])"
      ]
     },
     "execution_count": 25,
     "metadata": {},
     "output_type": "execute_result"
    }
   ],
   "source": [
    "scaler=StandardScaler()\n",
    "sc=scaler.fit_transform(data)\n",
    "sc"
   ]
  },
  {
   "cell_type": "code",
   "execution_count": null,
   "id": "e0cd2e84-3e41-41ce-a36f-645515061db2",
   "metadata": {},
   "outputs": [],
   "source": []
  },
  {
   "cell_type": "markdown",
   "id": "f54d2eab-b4fd-4bb4-9bb8-364cc2efcd15",
   "metadata": {},
   "source": [
    "# Model Muilding"
   ]
  },
  {
   "cell_type": "code",
   "execution_count": 27,
   "id": "d69594f9-afbb-4a4b-9757-7437f62031e5",
   "metadata": {},
   "outputs": [
    {
     "data": {
      "text/html": [
       "<div>\n",
       "<style scoped>\n",
       "    .dataframe tbody tr th:only-of-type {\n",
       "        vertical-align: middle;\n",
       "    }\n",
       "\n",
       "    .dataframe tbody tr th {\n",
       "        vertical-align: top;\n",
       "    }\n",
       "\n",
       "    .dataframe thead th {\n",
       "        text-align: right;\n",
       "    }\n",
       "</style>\n",
       "<table border=\"1\" class=\"dataframe\">\n",
       "  <thead>\n",
       "    <tr style=\"text-align: right;\">\n",
       "      <th></th>\n",
       "      <th>n_clusters</th>\n",
       "      <th>cluster_errors</th>\n",
       "    </tr>\n",
       "  </thead>\n",
       "  <tbody>\n",
       "    <tr>\n",
       "      <th>0</th>\n",
       "      <td>1</td>\n",
       "      <td>17260.000000</td>\n",
       "    </tr>\n",
       "    <tr>\n",
       "      <th>1</th>\n",
       "      <td>2</td>\n",
       "      <td>9770.382045</td>\n",
       "    </tr>\n",
       "    <tr>\n",
       "      <th>2</th>\n",
       "      <td>3</td>\n",
       "      <td>8190.290560</td>\n",
       "    </tr>\n",
       "    <tr>\n",
       "      <th>3</th>\n",
       "      <td>4</td>\n",
       "      <td>6337.200768</td>\n",
       "    </tr>\n",
       "    <tr>\n",
       "      <th>4</th>\n",
       "      <td>5</td>\n",
       "      <td>5459.291509</td>\n",
       "    </tr>\n",
       "    <tr>\n",
       "      <th>5</th>\n",
       "      <td>6</td>\n",
       "      <td>4866.560862</td>\n",
       "    </tr>\n",
       "    <tr>\n",
       "      <th>6</th>\n",
       "      <td>7</td>\n",
       "      <td>4105.787378</td>\n",
       "    </tr>\n",
       "    <tr>\n",
       "      <th>7</th>\n",
       "      <td>8</td>\n",
       "      <td>3742.836860</td>\n",
       "    </tr>\n",
       "    <tr>\n",
       "      <th>8</th>\n",
       "      <td>9</td>\n",
       "      <td>3354.160031</td>\n",
       "    </tr>\n",
       "    <tr>\n",
       "      <th>9</th>\n",
       "      <td>10</td>\n",
       "      <td>3190.188137</td>\n",
       "    </tr>\n",
       "    <tr>\n",
       "      <th>10</th>\n",
       "      <td>11</td>\n",
       "      <td>3005.717002</td>\n",
       "    </tr>\n",
       "    <tr>\n",
       "      <th>11</th>\n",
       "      <td>12</td>\n",
       "      <td>2718.054704</td>\n",
       "    </tr>\n",
       "    <tr>\n",
       "      <th>12</th>\n",
       "      <td>13</td>\n",
       "      <td>2531.321899</td>\n",
       "    </tr>\n",
       "    <tr>\n",
       "      <th>13</th>\n",
       "      <td>14</td>\n",
       "      <td>2494.002171</td>\n",
       "    </tr>\n",
       "  </tbody>\n",
       "</table>\n",
       "</div>"
      ],
      "text/plain": [
       "    n_clusters  cluster_errors\n",
       "0            1    17260.000000\n",
       "1            2     9770.382045\n",
       "2            3     8190.290560\n",
       "3            4     6337.200768\n",
       "4            5     5459.291509\n",
       "5            6     4866.560862\n",
       "6            7     4105.787378\n",
       "7            8     3742.836860\n",
       "8            9     3354.160031\n",
       "9           10     3190.188137\n",
       "10          11     3005.717002\n",
       "11          12     2718.054704\n",
       "12          13     2531.321899\n",
       "13          14     2494.002171"
      ]
     },
     "execution_count": 27,
     "metadata": {},
     "output_type": "execute_result"
    }
   ],
   "source": [
    "from sklearn.cluster import KMeans\n",
    "cluster_range=range(1,15)\n",
    "cluster_errors = [KMeans(n_clusters=n, random_state=42).fit(sc).inertia_ for n in cluster_range]\n",
    "clusters_df = pd.DataFrame({\"n_clusters\": cluster_range, \"cluster_errors\": cluster_errors})\n",
    "clusters_df\n"
   ]
  },
  {
   "cell_type": "code",
   "execution_count": 28,
   "id": "c1f63825-423c-4a5e-bbe4-af290e536ef3",
   "metadata": {},
   "outputs": [],
   "source": [
    "#wcss within a cluster sum of square\n",
    "wcss= []\n",
    "\n",
    "for i in range(1,9):\n",
    "    km = KMeans(n_clusters=i)\n",
    "    yp=km.fit_predict(sc)\n",
    "    wcss.append(km.inertia_) # within the cluster what is centroid value"
   ]
  },
  {
   "cell_type": "code",
   "execution_count": 29,
   "id": "2616170b-14ca-4288-aff6-6d76e339f653",
   "metadata": {},
   "outputs": [
    {
     "data": {
      "text/plain": [
       "array([1, 1, 1, ..., 7, 1, 1])"
      ]
     },
     "execution_count": 29,
     "metadata": {},
     "output_type": "execute_result"
    }
   ],
   "source": [
    "yp"
   ]
  },
  {
   "cell_type": "code",
   "execution_count": 30,
   "id": "46574947-3800-4e04-aedc-36f4eba1fc95",
   "metadata": {},
   "outputs": [
    {
     "data": {
      "text/plain": [
       "[17260.0,\n",
       " 9770.357577805291,\n",
       " 7782.599316244595,\n",
       " 6330.264615647118,\n",
       " 5543.145435988474,\n",
       " 4644.674141955251,\n",
       " 4144.4695932520835,\n",
       " 3743.048995211759]"
      ]
     },
     "execution_count": 30,
     "metadata": {},
     "output_type": "execute_result"
    }
   ],
   "source": [
    "wcss"
   ]
  },
  {
   "cell_type": "code",
   "execution_count": 31,
   "id": "68289aa5-19a0-42fc-b3c6-d5edb5bf9698",
   "metadata": {},
   "outputs": [
    {
     "data": {
      "text/plain": [
       "array([[ 1.44942421, -0.51996513,  0.        ,  0.        , -0.41690597,\n",
       "        -0.27516812, -0.69393448],\n",
       "       [-0.63462271, -0.70393994,  0.        ,  0.        , -0.72416548,\n",
       "        -0.93172701, -0.69393448],\n",
       "       [ 0.96151192,  1.36503411,  0.        ,  0.        ,  1.14618603,\n",
       "         0.8185488 , -0.69393448],\n",
       "       [ 1.93444859, -0.25159273,  0.        ,  0.        ,  0.04014843,\n",
       "         0.26194354,  1.44105824],\n",
       "       [-0.46804849, -0.69321522,  0.        ,  0.        , -0.48003287,\n",
       "        -0.50390582,  1.44105824],\n",
       "       [-0.32014885, -0.34261894,  0.        ,  0.        , -0.33829688,\n",
       "         0.68506346, -0.69393448],\n",
       "       [ 0.50940093,  1.86231446,  0.        ,  0.        ,  2.06585465,\n",
       "         1.14463594,  1.44105824],\n",
       "       [-0.35704372,  0.67951925,  0.        ,  0.        ,  0.41926907,\n",
       "         0.82294378,  1.44105824]])"
      ]
     },
     "execution_count": 31,
     "metadata": {},
     "output_type": "execute_result"
    }
   ],
   "source": [
    "km.cluster_centers_"
   ]
  },
  {
   "cell_type": "code",
   "execution_count": 32,
   "id": "60d9b73b-1352-4ba0-873e-d53f3719273c",
   "metadata": {},
   "outputs": [
    {
     "ename": "SyntaxError",
     "evalue": "invalid syntax. Perhaps you forgot a comma? (3406730628.py, line 1)",
     "output_type": "error",
     "traceback": [
      "\u001b[1;36m  Cell \u001b[1;32mIn[32], line 1\u001b[1;36m\u001b[0m\n\u001b[1;33m    plt.scatterplot(x[:,0],x[])\u001b[0m\n\u001b[1;37m                           ^\u001b[0m\n\u001b[1;31mSyntaxError\u001b[0m\u001b[1;31m:\u001b[0m invalid syntax. Perhaps you forgot a comma?\n"
     ]
    }
   ],
   "source": [
    "plt.scatterplot(x[:,0],x[])"
   ]
  },
  {
   "cell_type": "code",
   "execution_count": null,
   "id": "3c6ab38b-2c75-4873-b4ad-88a83544d1e2",
   "metadata": {},
   "outputs": [],
   "source": [
    "# Yelbow graph for the sc"
   ]
  },
  {
   "cell_type": "code",
   "execution_count": 40,
   "id": "7b6d3de2-ad5a-48a6-8375-7909b8d00e36",
   "metadata": {},
   "outputs": [
    {
     "data": {
      "image/png": "[encoded data removed]",
      "text/plain": [
       "<Figure size 640x480 with 1 Axes>"
      ]
     },
     "metadata": {},
     "output_type": "display_data"
    }
   ],
   "source": [
    "plt.plot(range(1,9),wcss,color=\"Blue\")\n",
    "plt.scatter(range(1,9),wcss,color=\"red\")\n",
    "plt.title(\"Yelbow graph for standerd scalar\")\n",
    "plt.xlabel(\"No of cluster\")\n",
    "plt.ylabel(\"wcss\")\n",
    "plt.show()"
   ]
  },
  {
   "cell_type": "code",
   "execution_count": 42,
   "id": "1d93cda9-be51-472b-9dcb-ff3ab482c02e",
   "metadata": {},
   "outputs": [],
   "source": [
    "from sklearn.metrics import silhouette_score\n",
    "n_clusters = [2,3,4,5,6,7,8,9,10] # number of clusters\n",
    "clusters_inertia = [] # inertia of clusters\n",
    "s_scores = [] # silhouette scores\n",
    "\n",
    "for n in n_clusters:\n",
    "    KM_est = KMeans(n_clusters=n, init='k-means++').fit(sc)\n",
    "    clusters_inertia.append(KM_est.inertia_)    # data for the elbow method\n",
    "    silhouette_avg = silhouette_score(sc, KM_est.labels_)\n",
    "    s_scores.append(silhouette_avg) "
   ]
  },
  {
   "cell_type": "code",
   "execution_count": 43,
   "id": "a643dba6-3913-4a4a-8f15-0df9fb2e7343",
   "metadata": {},
   "outputs": [
    {
     "data": {
      "image/png": "[encoded data removed]",
      "text/plain": [
       "<Figure size 1200x500 with 1 Axes>"
      ]
     },
     "metadata": {},
     "output_type": "display_data"
    }
   ],
   "source": [
    "fig, ax = plt.subplots(figsize=(12,5))\n",
    "ax = sns.lineplot(x=n_clusters, y=s_scores, marker='o', ax=ax)\n",
    "ax.set_title(\"Silhouette score method\")\n",
    "ax.set_xlabel(\"number of clusters\")\n",
    "ax.set_ylabel(\"Silhouette score\")\n",
    "ax.axvline(2, ls=\"--\", c=\"red\")\n",
    "plt.grid()\n",
    "plt.show()"
   ]
  },
  {
   "cell_type": "code",
   "execution_count": 44,
   "id": "6e5ac1a7-4ba2-4f78-8431-58207e11ef8b",
   "metadata": {},
   "outputs": [
    {
     "name": "stdout",
     "output_type": "stream",
     "text": [
      "For n_clusters = 2 The average silhouette_score is : (array([[-0.50123453, -0.7097949 ,  0.        , ..., -0.81173339,\n",
      "        -1.11798093, -0.69393448],\n",
      "       [-0.69972086, -0.7097949 ,  0.        , ..., -0.80876625,\n",
      "        -0.99324693, -0.69393448],\n",
      "       [-0.20657189, -0.7097949 ,  0.        , ..., -0.52594719,\n",
      "        -0.74377891, -0.69393448],\n",
      "       ...,\n",
      "       [ 0.51258696,  1.01449222,  0.        , ...,  1.01725487,\n",
      "        -0.24484288,  1.44105824],\n",
      "       [ 0.0955404 , -0.7097949 ,  0.        , ..., -0.78814101,\n",
      "        -1.11798093, -0.69393448],\n",
      "       [-1.0616757 , -0.7097949 ,  0.        , ..., -0.82432564,\n",
      "        -1.24271494, -0.69393448]]), array([1, 1, 1, ..., 0, 1, 1]))\n",
      "For n_clusters = 3 The average silhouette_score is : (array([[-0.50123453, -0.7097949 ,  0.        , ..., -0.81173339,\n",
      "        -1.11798093, -0.69393448],\n",
      "       [-0.69972086, -0.7097949 ,  0.        , ..., -0.80876625,\n",
      "        -0.99324693, -0.69393448],\n",
      "       [-0.20657189, -0.7097949 ,  0.        , ..., -0.52594719,\n",
      "        -0.74377891, -0.69393448],\n",
      "       ...,\n",
      "       [ 0.51258696,  1.01449222,  0.        , ...,  1.01725487,\n",
      "        -0.24484288,  1.44105824],\n",
      "       [ 0.0955404 , -0.7097949 ,  0.        , ..., -0.78814101,\n",
      "        -1.11798093, -0.69393448],\n",
      "       [-1.0616757 , -0.7097949 ,  0.        , ..., -0.82432564,\n",
      "        -1.24271494, -0.69393448]]), array([1, 1, 1, ..., 2, 1, 1]))\n",
      "For n_clusters = 4 The average silhouette_score is : (array([[-0.50123453, -0.7097949 ,  0.        , ..., -0.81173339,\n",
      "        -1.11798093, -0.69393448],\n",
      "       [-0.69972086, -0.7097949 ,  0.        , ..., -0.80876625,\n",
      "        -0.99324693, -0.69393448],\n",
      "       [-0.20657189, -0.7097949 ,  0.        , ..., -0.52594719,\n",
      "        -0.74377891, -0.69393448],\n",
      "       ...,\n",
      "       [ 0.51258696,  1.01449222,  0.        , ...,  1.01725487,\n",
      "        -0.24484288,  1.44105824],\n",
      "       [ 0.0955404 , -0.7097949 ,  0.        , ..., -0.78814101,\n",
      "        -1.11798093, -0.69393448],\n",
      "       [-1.0616757 , -0.7097949 ,  0.        , ..., -0.82432564,\n",
      "        -1.24271494, -0.69393448]]), array([1, 1, 1, ..., 2, 1, 1]))\n",
      "For n_clusters = 5 The average silhouette_score is : (array([[-0.50123453, -0.7097949 ,  0.        , ..., -0.81173339,\n",
      "        -1.11798093, -0.69393448],\n",
      "       [-0.69972086, -0.7097949 ,  0.        , ..., -0.80876625,\n",
      "        -0.99324693, -0.69393448],\n",
      "       [-0.20657189, -0.7097949 ,  0.        , ..., -0.52594719,\n",
      "        -0.74377891, -0.69393448],\n",
      "       ...,\n",
      "       [ 0.51258696,  1.01449222,  0.        , ...,  1.01725487,\n",
      "        -0.24484288,  1.44105824],\n",
      "       [ 0.0955404 , -0.7097949 ,  0.        , ..., -0.78814101,\n",
      "        -1.11798093, -0.69393448],\n",
      "       [-1.0616757 , -0.7097949 ,  0.        , ..., -0.82432564,\n",
      "        -1.24271494, -0.69393448]]), array([1, 1, 1, ..., 2, 1, 1]))\n",
      "For n_clusters = 6 The average silhouette_score is : (array([[-0.50123453, -0.7097949 ,  0.        , ..., -0.81173339,\n",
      "        -1.11798093, -0.69393448],\n",
      "       [-0.69972086, -0.7097949 ,  0.        , ..., -0.80876625,\n",
      "        -0.99324693, -0.69393448],\n",
      "       [-0.20657189, -0.7097949 ,  0.        , ..., -0.52594719,\n",
      "        -0.74377891, -0.69393448],\n",
      "       ...,\n",
      "       [ 0.51258696,  1.01449222,  0.        , ...,  1.01725487,\n",
      "        -0.24484288,  1.44105824],\n",
      "       [ 0.0955404 , -0.7097949 ,  0.        , ..., -0.78814101,\n",
      "        -1.11798093, -0.69393448],\n",
      "       [-1.0616757 , -0.7097949 ,  0.        , ..., -0.82432564,\n",
      "        -1.24271494, -0.69393448]]), array([1, 1, 1, ..., 2, 1, 1]))\n",
      "For n_clusters = 7 The average silhouette_score is : (array([[-0.50123453, -0.7097949 ,  0.        , ..., -0.81173339,\n",
      "        -1.11798093, -0.69393448],\n",
      "       [-0.69972086, -0.7097949 ,  0.        , ..., -0.80876625,\n",
      "        -0.99324693, -0.69393448],\n",
      "       [-0.20657189, -0.7097949 ,  0.        , ..., -0.52594719,\n",
      "        -0.74377891, -0.69393448],\n",
      "       ...,\n",
      "       [ 0.51258696,  1.01449222,  0.        , ...,  1.01725487,\n",
      "        -0.24484288,  1.44105824],\n",
      "       [ 0.0955404 , -0.7097949 ,  0.        , ..., -0.78814101,\n",
      "        -1.11798093, -0.69393448],\n",
      "       [-1.0616757 , -0.7097949 ,  0.        , ..., -0.82432564,\n",
      "        -1.24271494, -0.69393448]]), array([1, 1, 1, ..., 2, 1, 1]))\n",
      "For n_clusters = 8 The average silhouette_score is : (array([[-0.50123453, -0.7097949 ,  0.        , ..., -0.81173339,\n",
      "        -1.11798093, -0.69393448],\n",
      "       [-0.69972086, -0.7097949 ,  0.        , ..., -0.80876625,\n",
      "        -0.99324693, -0.69393448],\n",
      "       [-0.20657189, -0.7097949 ,  0.        , ..., -0.52594719,\n",
      "        -0.74377891, -0.69393448],\n",
      "       ...,\n",
      "       [ 0.51258696,  1.01449222,  0.        , ...,  1.01725487,\n",
      "        -0.24484288,  1.44105824],\n",
      "       [ 0.0955404 , -0.7097949 ,  0.        , ..., -0.78814101,\n",
      "        -1.11798093, -0.69393448],\n",
      "       [-1.0616757 , -0.7097949 ,  0.        , ..., -0.82432564,\n",
      "        -1.24271494, -0.69393448]]), array([4, 4, 4, ..., 5, 4, 4]))\n",
      "For n_clusters = 9 The average silhouette_score is : (array([[-0.50123453, -0.7097949 ,  0.        , ..., -0.81173339,\n",
      "        -1.11798093, -0.69393448],\n",
      "       [-0.69972086, -0.7097949 ,  0.        , ..., -0.80876625,\n",
      "        -0.99324693, -0.69393448],\n",
      "       [-0.20657189, -0.7097949 ,  0.        , ..., -0.52594719,\n",
      "        -0.74377891, -0.69393448],\n",
      "       ...,\n",
      "       [ 0.51258696,  1.01449222,  0.        , ...,  1.01725487,\n",
      "        -0.24484288,  1.44105824],\n",
      "       [ 0.0955404 , -0.7097949 ,  0.        , ..., -0.78814101,\n",
      "        -1.11798093, -0.69393448],\n",
      "       [-1.0616757 , -0.7097949 ,  0.        , ..., -0.82432564,\n",
      "        -1.24271494, -0.69393448]]), array([4, 4, 4, ..., 5, 4, 4]))\n"
     ]
    }
   ],
   "source": [
    "# With the elbow method, the ideal number of clusters to use was 6.\n",
    "# We will also use the Silhouette score to determine an optimal number.\n",
    "from sklearn.metrics import silhouette_score\n",
    "\n",
    "clust_list = [2,3,4,5,6,7,8,9]\n",
    "#  Silhouette score for stadardScaler applied on data.\n",
    "\n",
    "for n_clusters in clust_list:\n",
    "    clusterer1 = KMeans(n_clusters=n_clusters, random_state=0)\n",
    "    cluster_labels1 = clusterer1.fit_predict(sc)\n",
    "    sil_score1= (sc, cluster_labels1)\n",
    "    print(\"For n_clusters =\", n_clusters,\"The average silhouette_score is :\", sil_score1)"
   ]
  },
  {
   "cell_type": "code",
   "execution_count": 45,
   "id": "e8789fa5-ce2a-4ed3-98ae-b88847a739c1",
   "metadata": {},
   "outputs": [
    {
     "data": {
      "text/plain": [
       "array([3, 3, 3, ..., 7, 3, 3])"
      ]
     },
     "execution_count": 45,
     "metadata": {},
     "output_type": "execute_result"
    }
   ],
   "source": [
    "km = KMeans()\n",
    "yp = km.fit_predict(sc)\n",
    "yp  # 5 cluster will be possible in the k mean"
   ]
  },
  {
   "cell_type": "code",
   "execution_count": 46,
   "id": "5cb8ffce-8f9e-4cc2-9e38-c988f2d17a1a",
   "metadata": {},
   "outputs": [
    {
     "data": {
      "text/plain": [
       "3452"
      ]
     },
     "execution_count": 46,
     "metadata": {},
     "output_type": "execute_result"
    }
   ],
   "source": [
    "len(yp)"
   ]
  },
  {
   "cell_type": "code",
   "execution_count": 47,
   "id": "2c6b6f31-7e25-4dd6-a4cb-84f1963b1c56",
   "metadata": {},
   "outputs": [
    {
     "data": {
      "text/plain": [
       "array([[ 1.89992819, -0.53312614,  0.        ,  0.        , -0.2879072 ,\n",
       "        -0.13442261,  0.1023128 ],\n",
       "       [-0.28663086, -0.50302814,  0.        ,  0.        , -0.42142785,\n",
       "         0.65206674, -0.69393448],\n",
       "       [ 0.06290567,  1.86973864,  0.        ,  0.        ,  2.05499762,\n",
       "         1.08831419,  1.44105824],\n",
       "       [-0.59471932, -0.70260438,  0.        ,  0.        , -0.72009786,\n",
       "        -0.9396706 , -0.69393448],\n",
       "       [ 0.48844416,  1.15015948,  0.        ,  0.        ,  0.77492586,\n",
       "         0.72548639, -0.69393448],\n",
       "       [-0.42822489, -0.69130389,  0.        ,  0.        , -0.47447014,\n",
       "        -0.50701838,  1.44105824],\n",
       "       [ 2.09550951,  1.72708027,  0.        ,  0.        ,  1.83420854,\n",
       "         1.06804618,  0.1665983 ],\n",
       "       [-0.23046445,  0.62665864,  0.        ,  0.        ,  0.39165893,\n",
       "         0.84136663,  1.44105824]])"
      ]
     },
     "execution_count": 47,
     "metadata": {},
     "output_type": "execute_result"
    }
   ],
   "source": [
    "km.cluster_centers_"
   ]
  },
  {
   "cell_type": "code",
   "execution_count": 54,
   "id": "84c99746-79b8-42e3-a122-58fe1ac1c171",
   "metadata": {},
   "outputs": [
    {
     "data": {
      "text/plain": [
       "array([[-0.50123453, -0.7097949 ,  0.        , ..., -0.81173339,\n",
       "        -1.11798093, -0.69393448],\n",
       "       [-0.69972086, -0.7097949 ,  0.        , ..., -0.80876625,\n",
       "        -0.99324693, -0.69393448],\n",
       "       [-0.20657189, -0.7097949 ,  0.        , ..., -0.52594719,\n",
       "        -0.74377891, -0.69393448],\n",
       "       ...,\n",
       "       [ 0.51258696,  1.01449222,  0.        , ...,  1.01725487,\n",
       "        -0.24484288,  1.44105824],\n",
       "       [ 0.0955404 , -0.7097949 ,  0.        , ..., -0.78814101,\n",
       "        -1.11798093, -0.69393448],\n",
       "       [-1.0616757 , -0.7097949 ,  0.        , ..., -0.82432564,\n",
       "        -1.24271494, -0.69393448]])"
      ]
     },
     "execution_count": 54,
     "metadata": {},
     "output_type": "execute_result"
    }
   ],
   "source": [
    "sc"
   ]
  },
  {
   "cell_type": "code",
   "execution_count": 56,
   "id": "28ee370b-7dc3-42a0-bdb7-857fd0d2f2ac",
   "metadata": {},
   "outputs": [
    {
     "data": {
      "text/plain": [
       "array([ 1.89992819, -0.28663086,  0.06290567, -0.59471932,  0.48844416,\n",
       "       -0.42822489,  2.09550951, -0.23046445])"
      ]
     },
     "execution_count": 56,
     "metadata": {},
     "output_type": "execute_result"
    }
   ],
   "source": [
    "km.cluster_centers_[:,0]"
   ]
  },
  {
   "cell_type": "code",
   "execution_count": 58,
   "id": "2695e74c-ae74-4a17-997c-a240dd5aaed5",
   "metadata": {},
   "outputs": [
    {
     "data": {
      "text/plain": [
       "array([-0.53312614, -0.50302814,  1.86973864, -0.70260438,  1.15015948,\n",
       "       -0.69130389,  1.72708027,  0.62665864])"
      ]
     },
     "execution_count": 58,
     "metadata": {},
     "output_type": "execute_result"
    }
   ],
   "source": [
    "km.cluster_centers_[:,1]"
   ]
  },
  {
   "cell_type": "code",
   "execution_count": 60,
   "id": "8da2b9fb-e855-423d-9539-b6ec642f2a22",
   "metadata": {},
   "outputs": [
    {
     "data": {
      "text/plain": [
       "array([0., 0., 0., 0., 0., 0., 0., 0.])"
      ]
     },
     "execution_count": 60,
     "metadata": {},
     "output_type": "execute_result"
    }
   ],
   "source": [
    "km.cluster_centers_[:,2]"
   ]
  },
  {
   "cell_type": "code",
   "execution_count": 62,
   "id": "cc13d5ba-1e25-4834-9738-fe7dc83d8353",
   "metadata": {},
   "outputs": [
    {
     "data": {
      "text/plain": [
       "array([0., 0., 0., 0., 0., 0., 0., 0.])"
      ]
     },
     "execution_count": 62,
     "metadata": {},
     "output_type": "execute_result"
    }
   ],
   "source": [
    "km.cluster_centers_[:,3]"
   ]
  },
  {
   "cell_type": "code",
   "execution_count": 64,
   "id": "9a8b9984-826a-4f3d-9bab-b148a77db973",
   "metadata": {},
   "outputs": [
    {
     "data": {
      "text/plain": [
       "array([-0.2879072 , -0.42142785,  2.05499762, -0.72009786,  0.77492586,\n",
       "       -0.47447014,  1.83420854,  0.39165893])"
      ]
     },
     "execution_count": 64,
     "metadata": {},
     "output_type": "execute_result"
    }
   ],
   "source": [
    "km.cluster_centers_[:,4]"
   ]
  },
  {
   "cell_type": "code",
   "execution_count": 66,
   "id": "e7db68b5-eca1-4ca4-8bc1-faf8fbdca87a",
   "metadata": {},
   "outputs": [
    {
     "data": {
      "text/plain": [
       "array([-0.13442261,  0.65206674,  1.08831419, -0.9396706 ,  0.72548639,\n",
       "       -0.50701838,  1.06804618,  0.84136663])"
      ]
     },
     "execution_count": 66,
     "metadata": {},
     "output_type": "execute_result"
    }
   ],
   "source": [
    "km.cluster_centers_[:,5]"
   ]
  },
  {
   "cell_type": "code",
   "execution_count": 68,
   "id": "970fc908-531a-4e20-93f3-227dbc4535f4",
   "metadata": {},
   "outputs": [
    {
     "data": {
      "text/plain": [
       "array([ 0.1023128 , -0.69393448,  1.44105824, -0.69393448, -0.69393448,\n",
       "        1.44105824,  0.1665983 ,  1.44105824])"
      ]
     },
     "execution_count": 68,
     "metadata": {},
     "output_type": "execute_result"
    }
   ],
   "source": [
    "km.cluster_centers_[:,6]"
   ]
  },
  {
   "cell_type": "code",
   "execution_count": 70,
   "id": "1261d6f5-958b-4645-9b6c-f1605fa226f2",
   "metadata": {},
   "outputs": [
    {
     "ename": "ValueError",
     "evalue": "Unrecognized marker style array([-0.81173339, -0.80876625, -0.52594719, ...,  1.01725487,\n       -0.78814101, -0.82432564])",
     "output_type": "error",
     "traceback": [
      "\u001b[1;31m---------------------------------------------------------------------------\u001b[0m",
      "\u001b[1;31mValueError\u001b[0m                                Traceback (most recent call last)",
      "File \u001b[1;32mE:\\LDPlayer\\Lib\\site-packages\\matplotlib\\markers.py:335\u001b[0m, in \u001b[0;36mMarkerStyle._set_marker\u001b[1;34m(self, marker)\u001b[0m\n\u001b[0;32m    334\u001b[0m \u001b[38;5;28;01mtry\u001b[39;00m:\n\u001b[1;32m--> 335\u001b[0m     Path(marker)\n\u001b[0;32m    336\u001b[0m     \u001b[38;5;28mself\u001b[39m\u001b[38;5;241m.\u001b[39m_marker_function \u001b[38;5;241m=\u001b[39m \u001b[38;5;28mself\u001b[39m\u001b[38;5;241m.\u001b[39m_set_vertices\n",
      "File \u001b[1;32mE:\\LDPlayer\\Lib\\site-packages\\matplotlib\\path.py:130\u001b[0m, in \u001b[0;36mPath.__init__\u001b[1;34m(self, vertices, codes, _interpolation_steps, closed, readonly)\u001b[0m\n\u001b[0;32m    129\u001b[0m vertices \u001b[38;5;241m=\u001b[39m _to_unmasked_float_array(vertices)\n\u001b[1;32m--> 130\u001b[0m _api\u001b[38;5;241m.\u001b[39mcheck_shape((\u001b[38;5;28;01mNone\u001b[39;00m, \u001b[38;5;241m2\u001b[39m), vertices\u001b[38;5;241m=\u001b[39mvertices)\n\u001b[0;32m    132\u001b[0m \u001b[38;5;28;01mif\u001b[39;00m codes \u001b[38;5;129;01mis\u001b[39;00m \u001b[38;5;129;01mnot\u001b[39;00m \u001b[38;5;28;01mNone\u001b[39;00m:\n",
      "File \u001b[1;32mE:\\LDPlayer\\Lib\\site-packages\\matplotlib\\_api\\__init__.py:161\u001b[0m, in \u001b[0;36mcheck_shape\u001b[1;34m(shape, **kwargs)\u001b[0m\n\u001b[0;32m    159\u001b[0m     text_shape \u001b[38;5;241m+\u001b[39m\u001b[38;5;241m=\u001b[39m \u001b[38;5;124m\"\u001b[39m\u001b[38;5;124m,\u001b[39m\u001b[38;5;124m\"\u001b[39m\n\u001b[1;32m--> 161\u001b[0m \u001b[38;5;28;01mraise\u001b[39;00m \u001b[38;5;167;01mValueError\u001b[39;00m(\n\u001b[0;32m    162\u001b[0m     \u001b[38;5;124mf\u001b[39m\u001b[38;5;124m\"\u001b[39m\u001b[38;5;132;01m{\u001b[39;00mk\u001b[38;5;132;01m!r}\u001b[39;00m\u001b[38;5;124m must be \u001b[39m\u001b[38;5;132;01m{\u001b[39;00m\u001b[38;5;28mlen\u001b[39m(shape)\u001b[38;5;132;01m}\u001b[39;00m\u001b[38;5;124mD with shape (\u001b[39m\u001b[38;5;132;01m{\u001b[39;00mtext_shape\u001b[38;5;132;01m}\u001b[39;00m\u001b[38;5;124m), \u001b[39m\u001b[38;5;124m\"\u001b[39m\n\u001b[0;32m    163\u001b[0m     \u001b[38;5;124mf\u001b[39m\u001b[38;5;124m\"\u001b[39m\u001b[38;5;124mbut your input has shape \u001b[39m\u001b[38;5;132;01m{\u001b[39;00mv\u001b[38;5;241m.\u001b[39mshape\u001b[38;5;132;01m}\u001b[39;00m\u001b[38;5;124m\"\u001b[39m\n\u001b[0;32m    164\u001b[0m )\n",
      "\u001b[1;31mValueError\u001b[0m: 'vertices' must be 2D with shape (N, 2), but your input has shape (3452,)",
      "\nThe above exception was the direct cause of the following exception:\n",
      "\u001b[1;31mValueError\u001b[0m                                Traceback (most recent call last)",
      "Cell \u001b[1;32mIn[70], line 1\u001b[0m\n\u001b[1;32m----> 1\u001b[0m plt\u001b[38;5;241m.\u001b[39mscatter(sc[:,\u001b[38;5;241m0\u001b[39m],sc[:,\u001b[38;5;241m1\u001b[39m],sc[:,\u001b[38;5;241m2\u001b[39m],sc[:,\u001b[38;5;241m3\u001b[39m],sc[:,\u001b[38;5;241m4\u001b[39m],sc[:,\u001b[38;5;241m5\u001b[39m],sc[:,\u001b[38;5;241m6\u001b[39m] )\n\u001b[0;32m      2\u001b[0m plt\u001b[38;5;241m.\u001b[39mscatter(km\u001b[38;5;241m.\u001b[39mcluster_centers_[:,\u001b[38;5;241m0\u001b[39m],km\u001b[38;5;241m.\u001b[39mcluster_centers_[:,\u001b[38;5;241m1\u001b[39m], c \u001b[38;5;241m=\u001b[39m \u001b[38;5;124m'\u001b[39m\u001b[38;5;124myellow\u001b[39m\u001b[38;5;124m'\u001b[39m,s \u001b[38;5;241m=\u001b[39m \u001b[38;5;241m200\u001b[39m)\n",
      "File \u001b[1;32mE:\\LDPlayer\\Lib\\site-packages\\matplotlib\\pyplot.py:3699\u001b[0m, in \u001b[0;36mscatter\u001b[1;34m(x, y, s, c, marker, cmap, norm, vmin, vmax, alpha, linewidths, edgecolors, plotnonfinite, data, **kwargs)\u001b[0m\n\u001b[0;32m   3680\u001b[0m \u001b[38;5;129m@_copy_docstring_and_deprecators\u001b[39m(Axes\u001b[38;5;241m.\u001b[39mscatter)\n\u001b[0;32m   3681\u001b[0m \u001b[38;5;28;01mdef\u001b[39;00m \u001b[38;5;21mscatter\u001b[39m(\n\u001b[0;32m   3682\u001b[0m     x: \u001b[38;5;28mfloat\u001b[39m \u001b[38;5;241m|\u001b[39m ArrayLike,\n\u001b[1;32m   (...)\u001b[0m\n\u001b[0;32m   3697\u001b[0m     \u001b[38;5;241m*\u001b[39m\u001b[38;5;241m*\u001b[39mkwargs,\n\u001b[0;32m   3698\u001b[0m ) \u001b[38;5;241m-\u001b[39m\u001b[38;5;241m>\u001b[39m PathCollection:\n\u001b[1;32m-> 3699\u001b[0m     __ret \u001b[38;5;241m=\u001b[39m gca()\u001b[38;5;241m.\u001b[39mscatter(\n\u001b[0;32m   3700\u001b[0m         x,\n\u001b[0;32m   3701\u001b[0m         y,\n\u001b[0;32m   3702\u001b[0m         s\u001b[38;5;241m=\u001b[39ms,\n\u001b[0;32m   3703\u001b[0m         c\u001b[38;5;241m=\u001b[39mc,\n\u001b[0;32m   3704\u001b[0m         marker\u001b[38;5;241m=\u001b[39mmarker,\n\u001b[0;32m   3705\u001b[0m         cmap\u001b[38;5;241m=\u001b[39mcmap,\n\u001b[0;32m   3706\u001b[0m         norm\u001b[38;5;241m=\u001b[39mnorm,\n\u001b[0;32m   3707\u001b[0m         vmin\u001b[38;5;241m=\u001b[39mvmin,\n\u001b[0;32m   3708\u001b[0m         vmax\u001b[38;5;241m=\u001b[39mvmax,\n\u001b[0;32m   3709\u001b[0m         alpha\u001b[38;5;241m=\u001b[39malpha,\n\u001b[0;32m   3710\u001b[0m         linewidths\u001b[38;5;241m=\u001b[39mlinewidths,\n\u001b[0;32m   3711\u001b[0m         edgecolors\u001b[38;5;241m=\u001b[39medgecolors,\n\u001b[0;32m   3712\u001b[0m         plotnonfinite\u001b[38;5;241m=\u001b[39mplotnonfinite,\n\u001b[0;32m   3713\u001b[0m         \u001b[38;5;241m*\u001b[39m\u001b[38;5;241m*\u001b[39m({\u001b[38;5;124m\"\u001b[39m\u001b[38;5;124mdata\u001b[39m\u001b[38;5;124m\"\u001b[39m: data} \u001b[38;5;28;01mif\u001b[39;00m data \u001b[38;5;129;01mis\u001b[39;00m \u001b[38;5;129;01mnot\u001b[39;00m \u001b[38;5;28;01mNone\u001b[39;00m \u001b[38;5;28;01melse\u001b[39;00m {}),\n\u001b[0;32m   3714\u001b[0m         \u001b[38;5;241m*\u001b[39m\u001b[38;5;241m*\u001b[39mkwargs,\n\u001b[0;32m   3715\u001b[0m     )\n\u001b[0;32m   3716\u001b[0m     sci(__ret)\n\u001b[0;32m   3717\u001b[0m     \u001b[38;5;28;01mreturn\u001b[39;00m __ret\n",
      "File \u001b[1;32mE:\\LDPlayer\\Lib\\site-packages\\matplotlib\\__init__.py:1465\u001b[0m, in \u001b[0;36m_preprocess_data.<locals>.inner\u001b[1;34m(ax, data, *args, **kwargs)\u001b[0m\n\u001b[0;32m   1462\u001b[0m \u001b[38;5;129m@functools\u001b[39m\u001b[38;5;241m.\u001b[39mwraps(func)\n\u001b[0;32m   1463\u001b[0m \u001b[38;5;28;01mdef\u001b[39;00m \u001b[38;5;21minner\u001b[39m(ax, \u001b[38;5;241m*\u001b[39margs, data\u001b[38;5;241m=\u001b[39m\u001b[38;5;28;01mNone\u001b[39;00m, \u001b[38;5;241m*\u001b[39m\u001b[38;5;241m*\u001b[39mkwargs):\n\u001b[0;32m   1464\u001b[0m     \u001b[38;5;28;01mif\u001b[39;00m data \u001b[38;5;129;01mis\u001b[39;00m \u001b[38;5;28;01mNone\u001b[39;00m:\n\u001b[1;32m-> 1465\u001b[0m         \u001b[38;5;28;01mreturn\u001b[39;00m func(ax, \u001b[38;5;241m*\u001b[39m\u001b[38;5;28mmap\u001b[39m(sanitize_sequence, args), \u001b[38;5;241m*\u001b[39m\u001b[38;5;241m*\u001b[39mkwargs)\n\u001b[0;32m   1467\u001b[0m     bound \u001b[38;5;241m=\u001b[39m new_sig\u001b[38;5;241m.\u001b[39mbind(ax, \u001b[38;5;241m*\u001b[39margs, \u001b[38;5;241m*\u001b[39m\u001b[38;5;241m*\u001b[39mkwargs)\n\u001b[0;32m   1468\u001b[0m     auto_label \u001b[38;5;241m=\u001b[39m (bound\u001b[38;5;241m.\u001b[39marguments\u001b[38;5;241m.\u001b[39mget(label_namer)\n\u001b[0;32m   1469\u001b[0m                   \u001b[38;5;129;01mor\u001b[39;00m bound\u001b[38;5;241m.\u001b[39mkwargs\u001b[38;5;241m.\u001b[39mget(label_namer))\n",
      "File \u001b[1;32mE:\\LDPlayer\\Lib\\site-packages\\matplotlib\\axes\\_axes.py:4700\u001b[0m, in \u001b[0;36mAxes.scatter\u001b[1;34m(self, x, y, s, c, marker, cmap, norm, vmin, vmax, alpha, linewidths, edgecolors, plotnonfinite, **kwargs)\u001b[0m\n\u001b[0;32m   4698\u001b[0m     marker_obj \u001b[38;5;241m=\u001b[39m marker\n\u001b[0;32m   4699\u001b[0m \u001b[38;5;28;01melse\u001b[39;00m:\n\u001b[1;32m-> 4700\u001b[0m     marker_obj \u001b[38;5;241m=\u001b[39m mmarkers\u001b[38;5;241m.\u001b[39mMarkerStyle(marker)\n\u001b[0;32m   4702\u001b[0m path \u001b[38;5;241m=\u001b[39m marker_obj\u001b[38;5;241m.\u001b[39mget_path()\u001b[38;5;241m.\u001b[39mtransformed(\n\u001b[0;32m   4703\u001b[0m     marker_obj\u001b[38;5;241m.\u001b[39mget_transform())\n\u001b[0;32m   4704\u001b[0m \u001b[38;5;28;01mif\u001b[39;00m \u001b[38;5;129;01mnot\u001b[39;00m marker_obj\u001b[38;5;241m.\u001b[39mis_filled():\n",
      "File \u001b[1;32mE:\\LDPlayer\\Lib\\site-packages\\matplotlib\\markers.py:255\u001b[0m, in \u001b[0;36mMarkerStyle.__init__\u001b[1;34m(self, marker, fillstyle, transform, capstyle, joinstyle)\u001b[0m\n\u001b[0;32m    253\u001b[0m \u001b[38;5;28mself\u001b[39m\u001b[38;5;241m.\u001b[39m_user_joinstyle \u001b[38;5;241m=\u001b[39m JoinStyle(joinstyle) \u001b[38;5;28;01mif\u001b[39;00m joinstyle \u001b[38;5;129;01mis\u001b[39;00m \u001b[38;5;129;01mnot\u001b[39;00m \u001b[38;5;28;01mNone\u001b[39;00m \u001b[38;5;28;01melse\u001b[39;00m \u001b[38;5;28;01mNone\u001b[39;00m\n\u001b[0;32m    254\u001b[0m \u001b[38;5;28mself\u001b[39m\u001b[38;5;241m.\u001b[39m_set_fillstyle(fillstyle)\n\u001b[1;32m--> 255\u001b[0m \u001b[38;5;28mself\u001b[39m\u001b[38;5;241m.\u001b[39m_set_marker(marker)\n",
      "File \u001b[1;32mE:\\LDPlayer\\Lib\\site-packages\\matplotlib\\markers.py:338\u001b[0m, in \u001b[0;36mMarkerStyle._set_marker\u001b[1;34m(self, marker)\u001b[0m\n\u001b[0;32m    336\u001b[0m         \u001b[38;5;28mself\u001b[39m\u001b[38;5;241m.\u001b[39m_marker_function \u001b[38;5;241m=\u001b[39m \u001b[38;5;28mself\u001b[39m\u001b[38;5;241m.\u001b[39m_set_vertices\n\u001b[0;32m    337\u001b[0m     \u001b[38;5;28;01mexcept\u001b[39;00m \u001b[38;5;167;01mValueError\u001b[39;00m \u001b[38;5;28;01mas\u001b[39;00m err:\n\u001b[1;32m--> 338\u001b[0m         \u001b[38;5;28;01mraise\u001b[39;00m \u001b[38;5;167;01mValueError\u001b[39;00m(\n\u001b[0;32m    339\u001b[0m             \u001b[38;5;124mf\u001b[39m\u001b[38;5;124m'\u001b[39m\u001b[38;5;124mUnrecognized marker style \u001b[39m\u001b[38;5;132;01m{\u001b[39;00mmarker\u001b[38;5;132;01m!r}\u001b[39;00m\u001b[38;5;124m'\u001b[39m) \u001b[38;5;28;01mfrom\u001b[39;00m \u001b[38;5;21;01merr\u001b[39;00m\n\u001b[0;32m    341\u001b[0m \u001b[38;5;28;01mif\u001b[39;00m \u001b[38;5;129;01mnot\u001b[39;00m \u001b[38;5;28misinstance\u001b[39m(marker, MarkerStyle):\n\u001b[0;32m    342\u001b[0m     \u001b[38;5;28mself\u001b[39m\u001b[38;5;241m.\u001b[39m_marker \u001b[38;5;241m=\u001b[39m marker\n",
      "\u001b[1;31mValueError\u001b[0m: Unrecognized marker style array([-0.81173339, -0.80876625, -0.52594719, ...,  1.01725487,\n       -0.78814101, -0.82432564])"
     ]
    },
    {
     "data": {
      "image/png": "[encoded data removed]",
      "text/plain": [
       "<Figure size 640x480 with 1 Axes>"
      ]
     },
     "metadata": {},
     "output_type": "display_data"
    }
   ],
   "source": [
    "plt.scatter(sc[:,0],sc[:,1],sc[:,2],sc[:,3],sc[:,4],sc[:,5],sc[:,6] )\n",
    "plt.scatter(km.cluster_centers_[:,0],km.cluster_centers_[:,1], c = 'yellow',s = 200)"
   ]
  },
  {
   "cell_type": "markdown",
   "id": "491a8c26-4bdf-4b34-ac0a-0cb325e992c1",
   "metadata": {},
   "source": [
    "# DBSCAN"
   ]
  },
  {
   "cell_type": "code",
   "execution_count": null,
   "id": "5738d516-c513-4293-a75f-db1eee326736",
   "metadata": {},
   "outputs": [],
   "source": [
    "# dbscan is unsuperwised algorithom which is used to detect the outliers of the data"
   ]
  },
  {
   "cell_type": "code",
   "execution_count": null,
   "id": "9925c648-0dd2-4f11-aca9-401d38abbc5c",
   "metadata": {},
   "outputs": [],
   "source": [
    "sns.pairplot(data)"
   ]
  },
  {
   "cell_type": "code",
   "execution_count": null,
   "id": "0959a583-9156-4977-9d4e-2b6373588494",
   "metadata": {},
   "outputs": [],
   "source": [
    "from sklearn.cluster import DBSCAN  "
   ]
  },
  {
   "cell_type": "markdown",
   "id": "d969c7a5-2f54-4a06-ab26-4050842729a9",
   "metadata": {},
   "source": [
    "#### model building = DBSCAN \n"
   ]
  },
  {
   "cell_type": "code",
   "execution_count": null,
   "id": "46309588-a906-4b47-b218-2d2b979fae04",
   "metadata": {},
   "outputs": [],
   "source": [
    "db = DBSCAN(eps=0.5,min_samples=3)\n",
    "y=db.fit_predict(sc)\n",
    "y"
   ]
  },
  {
   "cell_type": "code",
   "execution_count": null,
   "id": "4ddb7952-a591-4c69-849e-678d23bf2a6b",
   "metadata": {},
   "outputs": [],
   "source": [
    "plt.scatter(sc[:,0],sc[:,4],c = y ,cmap = 'rainbow')"
   ]
  },
  {
   "cell_type": "code",
   "execution_count": 77,
   "id": "3d36eb8d-13b8-4540-9129-d02ad5181d25",
   "metadata": {},
   "outputs": [],
   "source": [
    "from sklearn.neighbors import NearestNeighbors"
   ]
  },
  {
   "cell_type": "code",
   "execution_count": 79,
   "id": "d9faa01a-53e2-41a7-bf6d-f48c1e53b6fb",
   "metadata": {},
   "outputs": [],
   "source": [
    "neigh = NearestNeighbors(n_neighbors=3).fit(sc)"
   ]
  },
  {
   "cell_type": "code",
   "execution_count": 84,
   "id": "fca32166-27d1-434e-b3a1-96155aa2fe67",
   "metadata": {},
   "outputs": [
    {
     "data": {
      "text/plain": [
       "(array([[0.        , 0.01344673, 0.02361112],\n",
       "        [0.        , 0.00340132, 0.02446793],\n",
       "        [0.        , 0.03325958, 0.04700496],\n",
       "        ...,\n",
       "        [0.        , 0.27864421, 0.36477852],\n",
       "        [0.        , 0.04313659, 0.04340425],\n",
       "        [0.        , 0.00073604, 0.00109291]]),\n",
       " array([[   0, 1971, 3140],\n",
       "        [   1, 2687, 2660],\n",
       "        [   2, 1478, 1691],\n",
       "        ...,\n",
       "        [3449, 3335, 3264],\n",
       "        [3450, 1930,  335],\n",
       "        [3451, 1829, 3192]], dtype=int64))"
      ]
     },
     "execution_count": 84,
     "metadata": {},
     "output_type": "execute_result"
    }
   ],
   "source": [
    "neigh.kneighbors(sc)"
   ]
  },
  {
   "cell_type": "code",
   "execution_count": 86,
   "id": "af1943db-766d-47f3-8a2a-b8be2a0cdf4e",
   "metadata": {},
   "outputs": [],
   "source": [
    "d,index = neigh.kneighbors(sc)"
   ]
  },
  {
   "cell_type": "code",
   "execution_count": 88,
   "id": "8efaf189-fbe8-4bbd-a292-ddd6478994ff",
   "metadata": {},
   "outputs": [
    {
     "data": {
      "text/plain": [
       "array([[0.        , 0.01344673, 0.02361112],\n",
       "       [0.        , 0.00340132, 0.02446793],\n",
       "       [0.        , 0.03325958, 0.04700496],\n",
       "       ...,\n",
       "       [0.        , 0.27864421, 0.36477852],\n",
       "       [0.        , 0.04313659, 0.04340425],\n",
       "       [0.        , 0.00073604, 0.00109291]])"
      ]
     },
     "execution_count": 88,
     "metadata": {},
     "output_type": "execute_result"
    }
   ],
   "source": [
    "d"
   ]
  },
  {
   "cell_type": "code",
   "execution_count": 90,
   "id": "f2b99c28-9bc0-49bb-9847-fd1544d5d6df",
   "metadata": {},
   "outputs": [
    {
     "data": {
      "text/plain": [
       "array([0.01344673, 0.00340132, 0.03325958, ..., 0.27864421, 0.04313659,\n",
       "       0.00073604])"
      ]
     },
     "execution_count": 90,
     "metadata": {},
     "output_type": "execute_result"
    }
   ],
   "source": [
    "d[:,1]"
   ]
  },
  {
   "cell_type": "code",
   "execution_count": 92,
   "id": "80d253f0-4f54-4433-bd61-832356c9103f",
   "metadata": {},
   "outputs": [],
   "source": [
    "distance=np.sort(d[:,1])"
   ]
  },
  {
   "cell_type": "code",
   "execution_count": 94,
   "id": "81637241-f08f-4cbe-ba96-149e9e00d96f",
   "metadata": {},
   "outputs": [
    {
     "data": {
      "text/plain": [
       "array([0.        , 0.        , 0.        , ..., 1.11242884, 1.260708  ,\n",
       "       1.29088157])"
      ]
     },
     "execution_count": 94,
     "metadata": {},
     "output_type": "execute_result"
    }
   ],
   "source": [
    "distance"
   ]
  },
  {
   "cell_type": "code",
   "execution_count": 96,
   "id": "9f3d854e-5b0d-42b3-be40-399899a22551",
   "metadata": {},
   "outputs": [
    {
     "data": {
      "text/plain": [
       "Text(0.5, 1.0, 'K-Distance Graph')"
      ]
     },
     "execution_count": 96,
     "metadata": {},
     "output_type": "execute_result"
    },
    {
     "data": {
      "image/png": "[encoded data removed]",
      "text/plain": [
       "<Figure size 640x480 with 1 Axes>"
      ]
     },
     "metadata": {},
     "output_type": "display_data"
    }
   ],
   "source": [
    "plt.plot(distance)\n",
    "plt.axhline(y=2, linestyle = '--', color = 'red')#horrizontal Axis\n",
    "plt.axvline(x=425, linestyle = '--', color = 'red')#Vertical Axis\n",
    "plt.xlabel('Distance')\n",
    "plt.ylabel('EPS')\n",
    "plt.title('K-Distance Graph')"
   ]
  },
  {
   "cell_type": "code",
   "execution_count": 101,
   "id": "4599db36-9beb-48b0-b1e1-20ce528a5203",
   "metadata": {},
   "outputs": [],
   "source": [
    "from sklearn.cluster import DBSCAN  "
   ]
  },
  {
   "cell_type": "markdown",
   "id": "524e0c17-1c5b-454d-a5f1-ea0dec5af065",
   "metadata": {},
   "source": [
    "# Evaluate the model"
   ]
  },
  {
   "cell_type": "code",
   "execution_count": 106,
   "id": "50fc9cdb-7a4b-4946-a092-673a7d7e980a",
   "metadata": {},
   "outputs": [
    {
     "data": {
      "text/plain": [
       "array([0, 0, 0, ..., 1, 0, 0], dtype=int64)"
      ]
     },
     "execution_count": 106,
     "metadata": {},
     "output_type": "execute_result"
    }
   ],
   "source": [
    "db = DBSCAN(eps=2.,min_samples=3)\n",
    "yp = db.fit_predict(sc)\n",
    "yp"
   ]
  },
  {
   "cell_type": "code",
   "execution_count": 110,
   "id": "a8b30a39-50f1-46d5-bbd1-0127677edb4b",
   "metadata": {},
   "outputs": [
    {
     "data": {
      "text/plain": [
       "<matplotlib.collections.PathCollection at 0x2c97de9bbc0>"
      ]
     },
     "execution_count": 110,
     "metadata": {},
     "output_type": "execute_result"
    },
    {
     "data": {
      "image/png": "[encoded data removed]",
      "text/plain": [
       "<Figure size 640x480 with 1 Axes>"
      ]
     },
     "metadata": {},
     "output_type": "display_data"
    }
   ],
   "source": [
    "plt.scatter(sc[:,1],sc[:,2],c = yp, cmap='rainbow')"
   ]
  },
  {
   "cell_type": "code",
   "execution_count": 116,
   "id": "6231d6c0-eb50-42f9-84a0-50480be8bb2c",
   "metadata": {},
   "outputs": [
    {
     "data": {
      "text/plain": [
       "0.33944655954181385"
      ]
     },
     "execution_count": 116,
     "metadata": {},
     "output_type": "execute_result"
    }
   ],
   "source": [
    "silhouette_score(sc,yp) "
   ]
  },
  {
   "cell_type": "code",
   "execution_count": 124,
   "id": "d1184fdb-f811-4e1f-a8f9-1608581e30bc",
   "metadata": {},
   "outputs": [
    {
     "name": "stderr",
     "output_type": "stream",
     "text": [
      "C:\\Users\\datta\\AppData\\Local\\Temp\\ipykernel_580\\4149446279.py:1: SettingWithCopyWarning: \n",
      "A value is trying to be set on a copy of a slice from a DataFrame.\n",
      "Try using .loc[row_indexer,col_indexer] = value instead\n",
      "\n",
      "See the caveats in the documentation: https://pandas.pydata.org/pandas-docs/stable/user_guide/indexing.html#returning-a-view-versus-a-copy\n",
      "  data['Cluster']=yp\n"
     ]
    },
    {
     "data": {
      "text/html": [
       "<div>\n",
       "<style scoped>\n",
       "    .dataframe tbody tr th:only-of-type {\n",
       "        vertical-align: middle;\n",
       "    }\n",
       "\n",
       "    .dataframe tbody tr th {\n",
       "        vertical-align: top;\n",
       "    }\n",
       "\n",
       "    .dataframe thead th {\n",
       "        text-align: right;\n",
       "    }\n",
       "</style>\n",
       "<table border=\"1\" class=\"dataframe\">\n",
       "  <thead>\n",
       "    <tr style=\"text-align: right;\">\n",
       "      <th></th>\n",
       "      <th>Balance</th>\n",
       "      <th>cc1_miles</th>\n",
       "      <th>cc2_miles</th>\n",
       "      <th>cc3_miles</th>\n",
       "      <th>Bonus_miles</th>\n",
       "      <th>Bonus_trans</th>\n",
       "      <th>Award?</th>\n",
       "      <th>Cluster</th>\n",
       "    </tr>\n",
       "  </thead>\n",
       "  <tbody>\n",
       "    <tr>\n",
       "      <th>0</th>\n",
       "      <td>28143</td>\n",
       "      <td>1</td>\n",
       "      <td>1</td>\n",
       "      <td>1</td>\n",
       "      <td>174</td>\n",
       "      <td>1</td>\n",
       "      <td>0</td>\n",
       "      <td>0</td>\n",
       "    </tr>\n",
       "    <tr>\n",
       "      <th>1</th>\n",
       "      <td>19244</td>\n",
       "      <td>1</td>\n",
       "      <td>1</td>\n",
       "      <td>1</td>\n",
       "      <td>215</td>\n",
       "      <td>2</td>\n",
       "      <td>0</td>\n",
       "      <td>0</td>\n",
       "    </tr>\n",
       "    <tr>\n",
       "      <th>2</th>\n",
       "      <td>41354</td>\n",
       "      <td>1</td>\n",
       "      <td>1</td>\n",
       "      <td>1</td>\n",
       "      <td>4123</td>\n",
       "      <td>4</td>\n",
       "      <td>0</td>\n",
       "      <td>0</td>\n",
       "    </tr>\n",
       "    <tr>\n",
       "      <th>3</th>\n",
       "      <td>14776</td>\n",
       "      <td>1</td>\n",
       "      <td>1</td>\n",
       "      <td>1</td>\n",
       "      <td>500</td>\n",
       "      <td>1</td>\n",
       "      <td>0</td>\n",
       "      <td>0</td>\n",
       "    </tr>\n",
       "    <tr>\n",
       "      <th>4</th>\n",
       "      <td>97752</td>\n",
       "      <td>4</td>\n",
       "      <td>1</td>\n",
       "      <td>1</td>\n",
       "      <td>43300</td>\n",
       "      <td>26</td>\n",
       "      <td>1</td>\n",
       "      <td>1</td>\n",
       "    </tr>\n",
       "    <tr>\n",
       "      <th>...</th>\n",
       "      <td>...</td>\n",
       "      <td>...</td>\n",
       "      <td>...</td>\n",
       "      <td>...</td>\n",
       "      <td>...</td>\n",
       "      <td>...</td>\n",
       "      <td>...</td>\n",
       "      <td>...</td>\n",
       "    </tr>\n",
       "    <tr>\n",
       "      <th>3994</th>\n",
       "      <td>18476</td>\n",
       "      <td>1</td>\n",
       "      <td>1</td>\n",
       "      <td>1</td>\n",
       "      <td>8525</td>\n",
       "      <td>4</td>\n",
       "      <td>1</td>\n",
       "      <td>1</td>\n",
       "    </tr>\n",
       "    <tr>\n",
       "      <th>3995</th>\n",
       "      <td>64385</td>\n",
       "      <td>1</td>\n",
       "      <td>1</td>\n",
       "      <td>1</td>\n",
       "      <td>981</td>\n",
       "      <td>5</td>\n",
       "      <td>1</td>\n",
       "      <td>1</td>\n",
       "    </tr>\n",
       "    <tr>\n",
       "      <th>3996</th>\n",
       "      <td>73597</td>\n",
       "      <td>3</td>\n",
       "      <td>1</td>\n",
       "      <td>1</td>\n",
       "      <td>25447</td>\n",
       "      <td>8</td>\n",
       "      <td>1</td>\n",
       "      <td>1</td>\n",
       "    </tr>\n",
       "    <tr>\n",
       "      <th>3997</th>\n",
       "      <td>54899</td>\n",
       "      <td>1</td>\n",
       "      <td>1</td>\n",
       "      <td>1</td>\n",
       "      <td>500</td>\n",
       "      <td>1</td>\n",
       "      <td>0</td>\n",
       "      <td>0</td>\n",
       "    </tr>\n",
       "    <tr>\n",
       "      <th>3998</th>\n",
       "      <td>3016</td>\n",
       "      <td>1</td>\n",
       "      <td>1</td>\n",
       "      <td>1</td>\n",
       "      <td>0</td>\n",
       "      <td>0</td>\n",
       "      <td>0</td>\n",
       "      <td>0</td>\n",
       "    </tr>\n",
       "  </tbody>\n",
       "</table>\n",
       "<p>3452 rows × 8 columns</p>\n",
       "</div>"
      ],
      "text/plain": [
       "      Balance  cc1_miles  cc2_miles  cc3_miles  Bonus_miles  Bonus_trans  \\\n",
       "0       28143          1          1          1          174            1   \n",
       "1       19244          1          1          1          215            2   \n",
       "2       41354          1          1          1         4123            4   \n",
       "3       14776          1          1          1          500            1   \n",
       "4       97752          4          1          1        43300           26   \n",
       "...       ...        ...        ...        ...          ...          ...   \n",
       "3994    18476          1          1          1         8525            4   \n",
       "3995    64385          1          1          1          981            5   \n",
       "3996    73597          3          1          1        25447            8   \n",
       "3997    54899          1          1          1          500            1   \n",
       "3998     3016          1          1          1            0            0   \n",
       "\n",
       "      Award?  Cluster  \n",
       "0          0        0  \n",
       "1          0        0  \n",
       "2          0        0  \n",
       "3          0        0  \n",
       "4          1        1  \n",
       "...      ...      ...  \n",
       "3994       1        1  \n",
       "3995       1        1  \n",
       "3996       1        1  \n",
       "3997       0        0  \n",
       "3998       0        0  \n",
       "\n",
       "[3452 rows x 8 columns]"
      ]
     },
     "execution_count": 124,
     "metadata": {},
     "output_type": "execute_result"
    }
   ],
   "source": [
    "data['Cluster']=yp\n",
    "data"
   ]
  },
  {
   "cell_type": "code",
   "execution_count": 126,
   "id": "1e5f9689-367f-412e-9471-ddffc187f67f",
   "metadata": {},
   "outputs": [
    {
     "data": {
      "text/plain": [
       "Cluster\n",
       "0    2330\n",
       "1    1122\n",
       "Name: count, dtype: int64"
      ]
     },
     "execution_count": 126,
     "metadata": {},
     "output_type": "execute_result"
    }
   ],
   "source": [
    "data['Cluster'].value_counts()"
   ]
  },
  {
   "cell_type": "code",
   "execution_count": 130,
   "id": "57f13478-09ee-4253-8558-af2bd9a259b2",
   "metadata": {},
   "outputs": [
    {
     "data": {
      "text/html": [
       "<div>\n",
       "<style scoped>\n",
       "    .dataframe tbody tr th:only-of-type {\n",
       "        vertical-align: middle;\n",
       "    }\n",
       "\n",
       "    .dataframe tbody tr th {\n",
       "        vertical-align: top;\n",
       "    }\n",
       "\n",
       "    .dataframe thead th {\n",
       "        text-align: right;\n",
       "    }\n",
       "</style>\n",
       "<table border=\"1\" class=\"dataframe\">\n",
       "  <thead>\n",
       "    <tr style=\"text-align: right;\">\n",
       "      <th></th>\n",
       "      <th>Balance</th>\n",
       "      <th>cc1_miles</th>\n",
       "      <th>cc2_miles</th>\n",
       "      <th>cc3_miles</th>\n",
       "      <th>Bonus_miles</th>\n",
       "      <th>Bonus_trans</th>\n",
       "      <th>Award?</th>\n",
       "    </tr>\n",
       "    <tr>\n",
       "      <th>Cluster</th>\n",
       "      <th></th>\n",
       "      <th></th>\n",
       "      <th></th>\n",
       "      <th></th>\n",
       "      <th></th>\n",
       "      <th></th>\n",
       "      <th></th>\n",
       "    </tr>\n",
       "  </thead>\n",
       "  <tbody>\n",
       "    <tr>\n",
       "      <th>0</th>\n",
       "      <td>47777.778112</td>\n",
       "      <td>1.581545</td>\n",
       "      <td>1.0</td>\n",
       "      <td>1.0</td>\n",
       "      <td>7924.290129</td>\n",
       "      <td>8.390558</td>\n",
       "      <td>0.0</td>\n",
       "    </tr>\n",
       "    <tr>\n",
       "      <th>1</th>\n",
       "      <td>56508.484848</td>\n",
       "      <td>2.325312</td>\n",
       "      <td>1.0</td>\n",
       "      <td>1.0</td>\n",
       "      <td>18588.754011</td>\n",
       "      <td>13.228164</td>\n",
       "      <td>1.0</td>\n",
       "    </tr>\n",
       "  </tbody>\n",
       "</table>\n",
       "</div>"
      ],
      "text/plain": [
       "              Balance  cc1_miles  cc2_miles  cc3_miles   Bonus_miles  \\\n",
       "Cluster                                                                \n",
       "0        47777.778112   1.581545        1.0        1.0   7924.290129   \n",
       "1        56508.484848   2.325312        1.0        1.0  18588.754011   \n",
       "\n",
       "         Bonus_trans  Award?  \n",
       "Cluster                       \n",
       "0           8.390558     0.0  \n",
       "1          13.228164     1.0  "
      ]
     },
     "execution_count": 130,
     "metadata": {},
     "output_type": "execute_result"
    }
   ],
   "source": [
    "data.groupby('Cluster').agg('mean')"
   ]
  },
  {
   "cell_type": "code",
   "execution_count": null,
   "id": "c54cddb9-25d1-422c-b127-316ea8557855",
   "metadata": {},
   "outputs": [],
   "source": []
  }
 ],
 "metadata": {
  "kernelspec": {
   "display_name": "Python 3 (ipykernel)",
   "language": "python",
   "name": "python3"
  },
  "language_info": {
   "codemirror_mode": {
    "name": "ipython",
    "version": 3
   },
   "file_extension": ".py",
   "mimetype": "text/x-python",
   "name": "python",
   "nbconvert_exporter": "python",
   "pygments_lexer": "ipython3",
   "version": "3.12.4"
  }
 },
 "nbformat": 4,
 "nbformat_minor": 5
}
