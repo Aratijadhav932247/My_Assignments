{
 "cells": [
  {
   "cell_type": "markdown",
   "id": "010a6654-e737-4f93-85b3-a02f2b0a3022",
   "metadata": {},
   "source": [
    "## Hypothesis testing"
   ]
  },
  {
   "cell_type": "markdown",
   "id": "01429662-899b-4ecc-8761-f7a8a3fb2b25",
   "metadata": {},
   "source": [
    "####  importing a library"
   ]
  },
  {
   "cell_type": "code",
   "execution_count": 3,
   "id": "8f6cd480-d94b-405b-9127-1a7540cb5051",
   "metadata": {},
   "outputs": [],
   "source": [
    "\n",
    "import scipy\n",
    "import numpy as np\n",
    "from scipy import stats"
   ]
  },
  {
   "cell_type": "code",
   "execution_count": 4,
   "id": "a6af7e1a-dc0f-4e3e-a13b-c5a22107fcf4",
   "metadata": {},
   "outputs": [],
   "source": [
    "# data given from the probllem\n",
    "sample_mean=3050 # sample mean cost in RS\n",
    "theoretical_mean=1,000 + 5*600 # weekly coast according to the model\n",
    "std_dev=5*25\n",
    "sample_size=25\n",
    "alpha=0.05             "
   ]
  },
  {
   "cell_type": "code",
   "execution_count": 5,
   "id": "10f6f71d-8d1f-4f1c-ae4d-e11263015178",
   "metadata": {},
   "outputs": [],
   "source": [
    "#Hypothesis statement \n",
    "#null hypothesis=The mean weekly operating cost is equal to the theoretical mean (H0: μ = μ0)\n",
    "#alternate hypothesis= The mean weekly operating cost is higher than the theoretical mean (H1: μ > μ0)"
   ]
  },
  {
   "cell_type": "code",
   "execution_count": 6,
   "id": "4a24994c-3519-4539-a0ca-6acfbdccfe01",
   "metadata": {},
   "outputs": [],
   "source": [
    "#calculate the test statestics (t-test)"
   ]
  },
  {
   "cell_type": "code",
   "execution_count": 7,
   "id": "35d594ea-4be2-4940-904c-b084dcb9f04a",
   "metadata": {},
   "outputs": [],
   "source": [
    "t_score = (3050 - 1000+5*600) / (5*25 / (25 ** 0.5))"
   ]
  },
  {
   "cell_type": "code",
   "execution_count": 8,
   "id": "148397a7-2eb3-4693-a6d6-478844f4b78e",
   "metadata": {},
   "outputs": [
    {
     "data": {
      "text/plain": [
       "202.0"
      ]
     },
     "execution_count": 8,
     "metadata": {},
     "output_type": "execute_result"
    }
   ],
   "source": [
    "t_score"
   ]
  },
  {
   "cell_type": "code",
   "execution_count": 9,
   "id": "5bc67896-f3bd-4db7-b6fd-896c2c0531b6",
   "metadata": {},
   "outputs": [],
   "source": [
    "degrees_of_freedom = sample_size - 1"
   ]
  },
  {
   "cell_type": "code",
   "execution_count": 10,
   "id": "05e61f33-b795-400e-b7b9-2061ae702c37",
   "metadata": {},
   "outputs": [
    {
     "data": {
      "text/plain": [
       "24"
      ]
     },
     "execution_count": 10,
     "metadata": {},
     "output_type": "execute_result"
    }
   ],
   "source": [
    "degrees_of_freedom"
   ]
  },
  {
   "cell_type": "code",
   "execution_count": 11,
   "id": "1e34c316-8d41-45c0-8a03-964d3f6ff925",
   "metadata": {},
   "outputs": [],
   "source": [
    "critical_value = stats.t.ppf(1 - alpha, degrees_of_freedom)"
   ]
  },
  {
   "cell_type": "code",
   "execution_count": 12,
   "id": "6d5b3b46-7598-42a1-aa6e-295efb152e49",
   "metadata": {},
   "outputs": [
    {
     "data": {
      "text/plain": [
       "1.7108820799094275"
      ]
     },
     "execution_count": 12,
     "metadata": {},
     "output_type": "execute_result"
    }
   ],
   "source": [
    "critical_value"
   ]
  },
  {
   "cell_type": "code",
   "execution_count": 25,
   "id": "eb84a1f8-1d62-4ab8-a5b7-4ee41d2f09e9",
   "metadata": {},
   "outputs": [],
   "source": [
    "#if the test value is greater than the critical values reject the null hypothesis\n",
    "#otherwise fail to reject null hypothesis\n",
    "if t_score< critical_value:\n",
    "    decision=\"reject the null hypothesis\"\n",
    "else:\n",
    "    decision=\"fail to reject the null hypothesis\"\n"
   ]
  },
  {
   "cell_type": "code",
   "execution_count": 29,
   "id": "6e3be608-f15d-434d-b04b-ef12297a1e51",
   "metadata": {},
   "outputs": [
    {
     "name": "stdout",
     "output_type": "stream",
     "text": [
      "t_score value is:  202.0\n",
      "critical_value is:  1.7108820799094275\n",
      "and the decision is:  fail to reject the null hypothesis\n"
     ]
    }
   ],
   "source": [
    "# and the conclusion is \n",
    "print(\"t_score value is: \",t_score)\n",
    "print(\"critical_value is: \",critical_value)\n",
    "print(\"and the decision is: \",decision)"
   ]
  },
  {
   "cell_type": "markdown",
   "id": "3d275b0a-4c49-4cec-a900-8cddd0bb7afa",
   "metadata": {},
   "source": [
    "### it means the weekly operating cost is higher than the model suggest"
   ]
  },
  {
   "cell_type": "code",
   "execution_count": null,
   "id": "eb8db289-b462-46c9-a385-a859bbdf7714",
   "metadata": {},
   "outputs": [],
   "source": []
  }
 ],
 "metadata": {
  "kernelspec": {
   "display_name": "Python 3 (ipykernel)",
   "language": "python",
   "name": "python3"
  },
  "language_info": {
   "codemirror_mode": {
    "name": "ipython",
    "version": 3
   },
   "file_extension": ".py",
   "mimetype": "text/x-python",
   "name": "python",
   "nbconvert_exporter": "python",
   "pygments_lexer": "ipython3",
   "version": "3.12.4"
  }
 },
 "nbformat": 4,
 "nbformat_minor": 5
}
