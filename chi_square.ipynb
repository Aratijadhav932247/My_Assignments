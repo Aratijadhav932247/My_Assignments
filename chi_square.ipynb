{
 "cells": [
  {
   "cell_type": "code",
   "execution_count": 35,
   "id": "a4040bee-fec7-408b-96ad-a4b02bd8a27d",
   "metadata": {},
   "outputs": [],
   "source": [
    "#chi-square test Association between device type and customer satisfaction\n",
    "\n",
    "import numpy as np\n",
    "from  scipy.stats import chi2_contingency#chi square"
   ]
  },
  {
   "cell_type": "code",
   "execution_count": 11,
   "id": "f9d97169-f0da-4936-9d41-3c0b6da09d1e",
   "metadata": {},
   "outputs": [],
   "source": [
    "observed = np.array([\n",
    "\n",
    "    [50,70],\n",
    "    [80,100],\n",
    "    [60,90],\n",
    "    [30,50],\n",
    "    [20,50],\n",
    "])"
   ]
  },
  {
   "cell_type": "code",
   "execution_count": null,
   "id": "4c88cdff-79a6-488b-93cc-b2b692a7361b",
   "metadata": {},
   "outputs": [],
   "source": [
    "# we are calculating wxpected frequencies using the chi square"
   ]
  },
  {
   "cell_type": "code",
   "execution_count": 37,
   "id": "8a44283d-107f-4516-a7f2-b3c13aaa306b",
   "metadata": {},
   "outputs": [
    {
     "name": "stdout",
     "output_type": "stream",
     "text": [
      "P-value 0.2278\n"
     ]
    }
   ],
   "source": [
    "#state the pvalue\n",
    "chisquare,PVALUE,dof,expected=chi2_contingency(observed)\n",
    "print(\"P-value\",PVALUE.round(4))\n",
    "# round is used for displying the value after decimal"
   ]
  },
  {
   "cell_type": "code",
   "execution_count": null,
   "id": "4bfd8cb0-55a5-4307-94bc-1c1d4441cd8a",
   "metadata": {},
   "outputs": [],
   "source": [
    "# reject null hypothesis: significant association between satisfaction and smart thermostat/smart light\n",
    "# fail to reject the null hypothesis: there is no significant association between satisfaction and smart thermostat / smart light "
   ]
  },
  {
   "cell_type": "code",
   "execution_count": 39,
   "id": "c7225dd0-052f-4719-bd66-f185669d15cb",
   "metadata": {},
   "outputs": [
    {
     "name": "stdout",
     "output_type": "stream",
     "text": [
      "Degree of freedom: 4\n",
      "Critical value: 9.487729036781154\n"
     ]
    }
   ],
   "source": [
    "alpha = 0.05\n",
    "degree_of_freedom = 4  # Replace with your degree of freedom\n",
    "\n",
    "critical_value = chi2.ppf(1 - alpha, degree_of_freedom)\n",
    "\n",
    "print(\"Degree of freedom:\", degree_of_freedom)\n",
    "print(\"Critical value:\", critical_value)"
   ]
  },
  {
   "cell_type": "code",
   "execution_count": 41,
   "id": "065ebdee-27e1-41e4-8c04-a2ecd5dcd24d",
   "metadata": {},
   "outputs": [
    {
     "name": "stdout",
     "output_type": "stream",
     "text": [
      "Fail to reject the null  hypothesis . there is no  significant association between satisfaction and smart thermosttat/ smart light usage\n"
     ]
    }
   ],
   "source": [
    "# making a decision\n",
    "chi2=0.05\n",
    "if chi2 >critical_value:\n",
    "    print(\"Reject  the null hypothesis. there is a significant association between  satisfaction and smart thermostat/  smart light usage\")\n",
    "\n",
    "else:\n",
    "    print(\"Fail to reject the null  hypothesis . there is no  significant association between satisfaction and smart thermosttat/ smart light usage\")\n"
   ]
  },
  {
   "cell_type": "code",
   "execution_count": null,
   "id": "523812f1-e6d4-4568-a82f-26c7b7f206f1",
   "metadata": {},
   "outputs": [],
   "source": []
  }
 ],
 "metadata": {
  "kernelspec": {
   "display_name": "Python 3 (ipykernel)",
   "language": "python",
   "name": "python3"
  },
  "language_info": {
   "codemirror_mode": {
    "name": "ipython",
    "version": 3
   },
   "file_extension": ".py",
   "mimetype": "text/x-python",
   "name": "python",
   "nbconvert_exporter": "python",
   "pygments_lexer": "ipython3",
   "version": "3.12.4"
  }
 },
 "nbformat": 4,
 "nbformat_minor": 5
}
